{
  "cells": [
    {
      "cell_type": "markdown",
      "metadata": {
        "id": "j5p6bi27hft_"
      },
      "source": [
        "# E-tivity 2 (06/02/23 - 19/02/23)\n",
        "\n",
        "* Your Name: Eoghan O'Connor\n",
        "\n",
        "* Your Student ID: 16110625"
      ]
    },
    {
      "cell_type": "markdown",
      "metadata": {
        "id": "DZI-rJZphfuB"
      },
      "source": [
        "## Outline\n",
        "\n",
        "This e-tivity is split into two parts. The first part <a href=\"#part1\">**Stock Predicition**</a> is a group activity where you are tasked with predicting the stock market.\n",
        "\n",
        "The second <a href=\"#part2\">**Sentiment Analysis**</a> is an individual task, the problem is to predict if a film review is positive or negative."
      ]
    },
    {
      "cell_type": "markdown",
      "metadata": {
        "id": "j-sjVT6whfuC"
      },
      "source": [
        "### Guidelines\n",
        "\n",
        "The e-tivity is split into five tasks. The first four are \"group\" excersises, in that you post the solutions to Tasks 1-4 to Gitlab. This will allow the members of your group to send you feedback (via the forums) so you can improve your submission. The final task is an individual task and together with the other tasks, should be uploaded to Sulis but not to gitlab.\n",
        "\n",
        "Marks will be deducted if task 5 is posted to gitlab in contravention of instructions. Also if the the final submission is not a single notebook with tasks 1-5 and with correct identification or filename.\n",
        "\n",
        "\n",
        "Grading guidelines: the grades for each task are additive, max 20. Weight [5/7]\n",
        "\n",
        "**Task 1 [0-6]**: Complete with suitable preprocessing steps. There is no unique solution but you should justify the actions you are taking.\n",
        "\n",
        "**Task 2 [0-4]**: Complete with suitable treatment of missing values. Again there maybe more than one solution, the important thing is to justify your actions.\n",
        "\n",
        "**Tasks 3+4 [0-4]**: Create a suitable model with correct evaluation. Test for common DL issues.\n",
        "\n",
        "**Task 5 [0-6]**: Completion of Task 5, using the layers outlined. The purpose of the task is to demonstrate that you can construct a valid model from scratch. Direct copy and paste from the web is not acceptable."
      ]
    },
    {
      "cell_type": "code",
      "execution_count": null,
      "metadata": {
        "id": "9niUksbWhfuC"
      },
      "outputs": [],
      "source": [
        "import matplotlib.pyplot as plt\n",
        "\n",
        "import numpy as np\n",
        "\n",
        "import pandas as pd\n",
        "import seaborn as sn\n",
        "from tensorflow.keras.callbacks import EarlyStopping\n",
        "from tensorflow.keras.layers import Dense, Input, SimpleRNN, Dropout\n",
        "from tensorflow.keras.models import Model\n",
        "from sklearn.model_selection import train_test_split\n",
        "from sklearn.preprocessing import MinMaxScaler, StandardScaler\n",
        "from sklearn.metrics import mean_squared_error, r2_score\n",
        "from tensorflow.keras import regularizers"
      ]
    },
    {
      "cell_type": "markdown",
      "metadata": {
        "id": "6xMVplinhfuD"
      },
      "source": [
        "<a id='part1'></a>\n",
        "## Stock Prediction\n",
        "\n",
        "### Context\n",
        "\n",
        "There is a small dataset of real stock prices for each working day from the end of 2015 to the end of 2019. There are four variables (with a time stamp), stock price, oil price, gold price and Euro to Dollar exchange. You need to predict the Stock price a day ahead from only the past values of each of the 4 variables. \n",
        "\n",
        "\n",
        "### Tasks 1-4 (complete by Monday 13/02/23)\n",
        "\n",
        "These tasks are to be completed and uploaded to GitLab on which the other group members can comment. The forum activity will form part of the overall mark for the e-tivity."
      ]
    },
    {
      "cell_type": "markdown",
      "metadata": {
        "id": "s6LQt00ghfuD"
      },
      "source": [
        "**Task 1: data preprocessing**\n",
        "\n",
        "Explain any preprocessing steps you take including but limited to reformatting and also how you have selected the training and test sets. The test set should be 20% of the whole.\n"
      ]
    },
    {
      "cell_type": "code",
      "execution_count": null,
      "metadata": {
        "colab": {
          "base_uri": "https://localhost:8080/",
          "height": 73
        },
        "id": "8xRtLyjPhfuD",
        "outputId": "53beae23-7560-4cbe-84f1-25e401e8b308"
      },
      "outputs": [
        {
          "output_type": "display_data",
          "data": {
            "text/plain": [
              "<IPython.core.display.HTML object>"
            ],
            "text/html": [
              "\n",
              "     <input type=\"file\" id=\"files-9f1cdcbf-fd03-47cc-b919-61a33eecd84e\" name=\"files[]\" multiple disabled\n",
              "        style=\"border:none\" />\n",
              "     <output id=\"result-9f1cdcbf-fd03-47cc-b919-61a33eecd84e\">\n",
              "      Upload widget is only available when the cell has been executed in the\n",
              "      current browser session. Please rerun this cell to enable.\n",
              "      </output>\n",
              "      <script>// Copyright 2017 Google LLC\n",
              "//\n",
              "// Licensed under the Apache License, Version 2.0 (the \"License\");\n",
              "// you may not use this file except in compliance with the License.\n",
              "// You may obtain a copy of the License at\n",
              "//\n",
              "//      http://www.apache.org/licenses/LICENSE-2.0\n",
              "//\n",
              "// Unless required by applicable law or agreed to in writing, software\n",
              "// distributed under the License is distributed on an \"AS IS\" BASIS,\n",
              "// WITHOUT WARRANTIES OR CONDITIONS OF ANY KIND, either express or implied.\n",
              "// See the License for the specific language governing permissions and\n",
              "// limitations under the License.\n",
              "\n",
              "/**\n",
              " * @fileoverview Helpers for google.colab Python module.\n",
              " */\n",
              "(function(scope) {\n",
              "function span(text, styleAttributes = {}) {\n",
              "  const element = document.createElement('span');\n",
              "  element.textContent = text;\n",
              "  for (const key of Object.keys(styleAttributes)) {\n",
              "    element.style[key] = styleAttributes[key];\n",
              "  }\n",
              "  return element;\n",
              "}\n",
              "\n",
              "// Max number of bytes which will be uploaded at a time.\n",
              "const MAX_PAYLOAD_SIZE = 100 * 1024;\n",
              "\n",
              "function _uploadFiles(inputId, outputId) {\n",
              "  const steps = uploadFilesStep(inputId, outputId);\n",
              "  const outputElement = document.getElementById(outputId);\n",
              "  // Cache steps on the outputElement to make it available for the next call\n",
              "  // to uploadFilesContinue from Python.\n",
              "  outputElement.steps = steps;\n",
              "\n",
              "  return _uploadFilesContinue(outputId);\n",
              "}\n",
              "\n",
              "// This is roughly an async generator (not supported in the browser yet),\n",
              "// where there are multiple asynchronous steps and the Python side is going\n",
              "// to poll for completion of each step.\n",
              "// This uses a Promise to block the python side on completion of each step,\n",
              "// then passes the result of the previous step as the input to the next step.\n",
              "function _uploadFilesContinue(outputId) {\n",
              "  const outputElement = document.getElementById(outputId);\n",
              "  const steps = outputElement.steps;\n",
              "\n",
              "  const next = steps.next(outputElement.lastPromiseValue);\n",
              "  return Promise.resolve(next.value.promise).then((value) => {\n",
              "    // Cache the last promise value to make it available to the next\n",
              "    // step of the generator.\n",
              "    outputElement.lastPromiseValue = value;\n",
              "    return next.value.response;\n",
              "  });\n",
              "}\n",
              "\n",
              "/**\n",
              " * Generator function which is called between each async step of the upload\n",
              " * process.\n",
              " * @param {string} inputId Element ID of the input file picker element.\n",
              " * @param {string} outputId Element ID of the output display.\n",
              " * @return {!Iterable<!Object>} Iterable of next steps.\n",
              " */\n",
              "function* uploadFilesStep(inputId, outputId) {\n",
              "  const inputElement = document.getElementById(inputId);\n",
              "  inputElement.disabled = false;\n",
              "\n",
              "  const outputElement = document.getElementById(outputId);\n",
              "  outputElement.innerHTML = '';\n",
              "\n",
              "  const pickedPromise = new Promise((resolve) => {\n",
              "    inputElement.addEventListener('change', (e) => {\n",
              "      resolve(e.target.files);\n",
              "    });\n",
              "  });\n",
              "\n",
              "  const cancel = document.createElement('button');\n",
              "  inputElement.parentElement.appendChild(cancel);\n",
              "  cancel.textContent = 'Cancel upload';\n",
              "  const cancelPromise = new Promise((resolve) => {\n",
              "    cancel.onclick = () => {\n",
              "      resolve(null);\n",
              "    };\n",
              "  });\n",
              "\n",
              "  // Wait for the user to pick the files.\n",
              "  const files = yield {\n",
              "    promise: Promise.race([pickedPromise, cancelPromise]),\n",
              "    response: {\n",
              "      action: 'starting',\n",
              "    }\n",
              "  };\n",
              "\n",
              "  cancel.remove();\n",
              "\n",
              "  // Disable the input element since further picks are not allowed.\n",
              "  inputElement.disabled = true;\n",
              "\n",
              "  if (!files) {\n",
              "    return {\n",
              "      response: {\n",
              "        action: 'complete',\n",
              "      }\n",
              "    };\n",
              "  }\n",
              "\n",
              "  for (const file of files) {\n",
              "    const li = document.createElement('li');\n",
              "    li.append(span(file.name, {fontWeight: 'bold'}));\n",
              "    li.append(span(\n",
              "        `(${file.type || 'n/a'}) - ${file.size} bytes, ` +\n",
              "        `last modified: ${\n",
              "            file.lastModifiedDate ? file.lastModifiedDate.toLocaleDateString() :\n",
              "                                    'n/a'} - `));\n",
              "    const percent = span('0% done');\n",
              "    li.appendChild(percent);\n",
              "\n",
              "    outputElement.appendChild(li);\n",
              "\n",
              "    const fileDataPromise = new Promise((resolve) => {\n",
              "      const reader = new FileReader();\n",
              "      reader.onload = (e) => {\n",
              "        resolve(e.target.result);\n",
              "      };\n",
              "      reader.readAsArrayBuffer(file);\n",
              "    });\n",
              "    // Wait for the data to be ready.\n",
              "    let fileData = yield {\n",
              "      promise: fileDataPromise,\n",
              "      response: {\n",
              "        action: 'continue',\n",
              "      }\n",
              "    };\n",
              "\n",
              "    // Use a chunked sending to avoid message size limits. See b/62115660.\n",
              "    let position = 0;\n",
              "    do {\n",
              "      const length = Math.min(fileData.byteLength - position, MAX_PAYLOAD_SIZE);\n",
              "      const chunk = new Uint8Array(fileData, position, length);\n",
              "      position += length;\n",
              "\n",
              "      const base64 = btoa(String.fromCharCode.apply(null, chunk));\n",
              "      yield {\n",
              "        response: {\n",
              "          action: 'append',\n",
              "          file: file.name,\n",
              "          data: base64,\n",
              "        },\n",
              "      };\n",
              "\n",
              "      let percentDone = fileData.byteLength === 0 ?\n",
              "          100 :\n",
              "          Math.round((position / fileData.byteLength) * 100);\n",
              "      percent.textContent = `${percentDone}% done`;\n",
              "\n",
              "    } while (position < fileData.byteLength);\n",
              "  }\n",
              "\n",
              "  // All done.\n",
              "  yield {\n",
              "    response: {\n",
              "      action: 'complete',\n",
              "    }\n",
              "  };\n",
              "}\n",
              "\n",
              "scope.google = scope.google || {};\n",
              "scope.google.colab = scope.google.colab || {};\n",
              "scope.google.colab._files = {\n",
              "  _uploadFiles,\n",
              "  _uploadFilesContinue,\n",
              "};\n",
              "})(self);\n",
              "</script> "
            ]
          },
          "metadata": {}
        },
        {
          "output_type": "stream",
          "name": "stdout",
          "text": [
            "Saving stock.csv to stock.csv\n"
          ]
        }
      ],
      "source": [
        "# from google.colab import files\n",
        "# uploaded = files.upload()"
      ]
    },
    {
      "cell_type": "code",
      "execution_count": null,
      "metadata": {
        "colab": {
          "base_uri": "https://localhost:8080/",
          "height": 677
        },
        "id": "vhiyiCO_hfuE",
        "outputId": "ea4daaf6-2887-4091-9c3f-a1683cd2623d"
      },
      "outputs": [
        {
          "output_type": "execute_result",
          "data": {
            "text/plain": [
              "          Date        Stock        Oil  EuroToDollar    Gold\n",
              "0   2015-11-23  2089.409912  41.490002        0.9432  1124.7\n",
              "1   2015-11-24  2084.419922  42.040001        0.9388  1131.6\n",
              "2   2015-11-25  2089.300049  42.689999        0.9420  1128.4\n",
              "3   2015-11-27  2088.820068  43.250000        0.9438  1114.5\n",
              "4   2015-11-30  2090.949951  41.770000        0.9468  1123.9\n",
              "5   2015-12-01  2082.929932  41.730000        0.9416  1122.0\n",
              "6   2015-12-02  2101.709961  41.689999        0.9458  1112.4\n",
              "7   2015-12-03  2080.709961  40.150002        0.9173  1120.6\n",
              "8   2015-12-04  2051.239990  41.310001        0.9188  1143.2\n",
              "9   2015-12-07  2090.419922  40.099998        0.9225  1134.3\n",
              "10  2015-12-08  2073.389893  37.680000        0.9195  1134.0\n",
              "11  2015-12-09  2061.169922  37.860001        0.9104  1134.9\n",
              "12  2015-12-10  2047.930054  37.270000        0.9134  1130.3\n",
              "13  2015-12-11  2047.270020  36.630001        0.9089  1133.8\n",
              "14  2015-12-14  2013.369995  35.400002        0.9070  1121.4\n",
              "15  2015-12-15  2025.550049  36.320000        0.9165  1119.8\n",
              "16  2015-12-16  2046.500000  36.790001        0.9143  1135.3\n",
              "17  2015-12-17  2073.760010  35.799999        0.9256  1108.1\n",
              "18  2015-12-18  2040.810059  34.869999        0.9219  1123.3\n",
              "19  2015-12-21  2010.270020  34.580002        0.9158  1140.5"
            ],
            "text/html": [
              "\n",
              "  <div id=\"df-13cd5e8c-a17f-4fc5-85a1-05da68420255\">\n",
              "    <div class=\"colab-df-container\">\n",
              "      <div>\n",
              "<style scoped>\n",
              "    .dataframe tbody tr th:only-of-type {\n",
              "        vertical-align: middle;\n",
              "    }\n",
              "\n",
              "    .dataframe tbody tr th {\n",
              "        vertical-align: top;\n",
              "    }\n",
              "\n",
              "    .dataframe thead th {\n",
              "        text-align: right;\n",
              "    }\n",
              "</style>\n",
              "<table border=\"1\" class=\"dataframe\">\n",
              "  <thead>\n",
              "    <tr style=\"text-align: right;\">\n",
              "      <th></th>\n",
              "      <th>Date</th>\n",
              "      <th>Stock</th>\n",
              "      <th>Oil</th>\n",
              "      <th>EuroToDollar</th>\n",
              "      <th>Gold</th>\n",
              "    </tr>\n",
              "  </thead>\n",
              "  <tbody>\n",
              "    <tr>\n",
              "      <th>0</th>\n",
              "      <td>2015-11-23</td>\n",
              "      <td>2089.409912</td>\n",
              "      <td>41.490002</td>\n",
              "      <td>0.9432</td>\n",
              "      <td>1124.7</td>\n",
              "    </tr>\n",
              "    <tr>\n",
              "      <th>1</th>\n",
              "      <td>2015-11-24</td>\n",
              "      <td>2084.419922</td>\n",
              "      <td>42.040001</td>\n",
              "      <td>0.9388</td>\n",
              "      <td>1131.6</td>\n",
              "    </tr>\n",
              "    <tr>\n",
              "      <th>2</th>\n",
              "      <td>2015-11-25</td>\n",
              "      <td>2089.300049</td>\n",
              "      <td>42.689999</td>\n",
              "      <td>0.9420</td>\n",
              "      <td>1128.4</td>\n",
              "    </tr>\n",
              "    <tr>\n",
              "      <th>3</th>\n",
              "      <td>2015-11-27</td>\n",
              "      <td>2088.820068</td>\n",
              "      <td>43.250000</td>\n",
              "      <td>0.9438</td>\n",
              "      <td>1114.5</td>\n",
              "    </tr>\n",
              "    <tr>\n",
              "      <th>4</th>\n",
              "      <td>2015-11-30</td>\n",
              "      <td>2090.949951</td>\n",
              "      <td>41.770000</td>\n",
              "      <td>0.9468</td>\n",
              "      <td>1123.9</td>\n",
              "    </tr>\n",
              "    <tr>\n",
              "      <th>5</th>\n",
              "      <td>2015-12-01</td>\n",
              "      <td>2082.929932</td>\n",
              "      <td>41.730000</td>\n",
              "      <td>0.9416</td>\n",
              "      <td>1122.0</td>\n",
              "    </tr>\n",
              "    <tr>\n",
              "      <th>6</th>\n",
              "      <td>2015-12-02</td>\n",
              "      <td>2101.709961</td>\n",
              "      <td>41.689999</td>\n",
              "      <td>0.9458</td>\n",
              "      <td>1112.4</td>\n",
              "    </tr>\n",
              "    <tr>\n",
              "      <th>7</th>\n",
              "      <td>2015-12-03</td>\n",
              "      <td>2080.709961</td>\n",
              "      <td>40.150002</td>\n",
              "      <td>0.9173</td>\n",
              "      <td>1120.6</td>\n",
              "    </tr>\n",
              "    <tr>\n",
              "      <th>8</th>\n",
              "      <td>2015-12-04</td>\n",
              "      <td>2051.239990</td>\n",
              "      <td>41.310001</td>\n",
              "      <td>0.9188</td>\n",
              "      <td>1143.2</td>\n",
              "    </tr>\n",
              "    <tr>\n",
              "      <th>9</th>\n",
              "      <td>2015-12-07</td>\n",
              "      <td>2090.419922</td>\n",
              "      <td>40.099998</td>\n",
              "      <td>0.9225</td>\n",
              "      <td>1134.3</td>\n",
              "    </tr>\n",
              "    <tr>\n",
              "      <th>10</th>\n",
              "      <td>2015-12-08</td>\n",
              "      <td>2073.389893</td>\n",
              "      <td>37.680000</td>\n",
              "      <td>0.9195</td>\n",
              "      <td>1134.0</td>\n",
              "    </tr>\n",
              "    <tr>\n",
              "      <th>11</th>\n",
              "      <td>2015-12-09</td>\n",
              "      <td>2061.169922</td>\n",
              "      <td>37.860001</td>\n",
              "      <td>0.9104</td>\n",
              "      <td>1134.9</td>\n",
              "    </tr>\n",
              "    <tr>\n",
              "      <th>12</th>\n",
              "      <td>2015-12-10</td>\n",
              "      <td>2047.930054</td>\n",
              "      <td>37.270000</td>\n",
              "      <td>0.9134</td>\n",
              "      <td>1130.3</td>\n",
              "    </tr>\n",
              "    <tr>\n",
              "      <th>13</th>\n",
              "      <td>2015-12-11</td>\n",
              "      <td>2047.270020</td>\n",
              "      <td>36.630001</td>\n",
              "      <td>0.9089</td>\n",
              "      <td>1133.8</td>\n",
              "    </tr>\n",
              "    <tr>\n",
              "      <th>14</th>\n",
              "      <td>2015-12-14</td>\n",
              "      <td>2013.369995</td>\n",
              "      <td>35.400002</td>\n",
              "      <td>0.9070</td>\n",
              "      <td>1121.4</td>\n",
              "    </tr>\n",
              "    <tr>\n",
              "      <th>15</th>\n",
              "      <td>2015-12-15</td>\n",
              "      <td>2025.550049</td>\n",
              "      <td>36.320000</td>\n",
              "      <td>0.9165</td>\n",
              "      <td>1119.8</td>\n",
              "    </tr>\n",
              "    <tr>\n",
              "      <th>16</th>\n",
              "      <td>2015-12-16</td>\n",
              "      <td>2046.500000</td>\n",
              "      <td>36.790001</td>\n",
              "      <td>0.9143</td>\n",
              "      <td>1135.3</td>\n",
              "    </tr>\n",
              "    <tr>\n",
              "      <th>17</th>\n",
              "      <td>2015-12-17</td>\n",
              "      <td>2073.760010</td>\n",
              "      <td>35.799999</td>\n",
              "      <td>0.9256</td>\n",
              "      <td>1108.1</td>\n",
              "    </tr>\n",
              "    <tr>\n",
              "      <th>18</th>\n",
              "      <td>2015-12-18</td>\n",
              "      <td>2040.810059</td>\n",
              "      <td>34.869999</td>\n",
              "      <td>0.9219</td>\n",
              "      <td>1123.3</td>\n",
              "    </tr>\n",
              "    <tr>\n",
              "      <th>19</th>\n",
              "      <td>2015-12-21</td>\n",
              "      <td>2010.270020</td>\n",
              "      <td>34.580002</td>\n",
              "      <td>0.9158</td>\n",
              "      <td>1140.5</td>\n",
              "    </tr>\n",
              "  </tbody>\n",
              "</table>\n",
              "</div>\n",
              "      <button class=\"colab-df-convert\" onclick=\"convertToInteractive('df-13cd5e8c-a17f-4fc5-85a1-05da68420255')\"\n",
              "              title=\"Convert this dataframe to an interactive table.\"\n",
              "              style=\"display:none;\">\n",
              "        \n",
              "  <svg xmlns=\"http://www.w3.org/2000/svg\" height=\"24px\"viewBox=\"0 0 24 24\"\n",
              "       width=\"24px\">\n",
              "    <path d=\"M0 0h24v24H0V0z\" fill=\"none\"/>\n",
              "    <path d=\"M18.56 5.44l.94 2.06.94-2.06 2.06-.94-2.06-.94-.94-2.06-.94 2.06-2.06.94zm-11 1L8.5 8.5l.94-2.06 2.06-.94-2.06-.94L8.5 2.5l-.94 2.06-2.06.94zm10 10l.94 2.06.94-2.06 2.06-.94-2.06-.94-.94-2.06-.94 2.06-2.06.94z\"/><path d=\"M17.41 7.96l-1.37-1.37c-.4-.4-.92-.59-1.43-.59-.52 0-1.04.2-1.43.59L10.3 9.45l-7.72 7.72c-.78.78-.78 2.05 0 2.83L4 21.41c.39.39.9.59 1.41.59.51 0 1.02-.2 1.41-.59l7.78-7.78 2.81-2.81c.8-.78.8-2.07 0-2.86zM5.41 20L4 18.59l7.72-7.72 1.47 1.35L5.41 20z\"/>\n",
              "  </svg>\n",
              "      </button>\n",
              "      \n",
              "  <style>\n",
              "    .colab-df-container {\n",
              "      display:flex;\n",
              "      flex-wrap:wrap;\n",
              "      gap: 12px;\n",
              "    }\n",
              "\n",
              "    .colab-df-convert {\n",
              "      background-color: #E8F0FE;\n",
              "      border: none;\n",
              "      border-radius: 50%;\n",
              "      cursor: pointer;\n",
              "      display: none;\n",
              "      fill: #1967D2;\n",
              "      height: 32px;\n",
              "      padding: 0 0 0 0;\n",
              "      width: 32px;\n",
              "    }\n",
              "\n",
              "    .colab-df-convert:hover {\n",
              "      background-color: #E2EBFA;\n",
              "      box-shadow: 0px 1px 2px rgba(60, 64, 67, 0.3), 0px 1px 3px 1px rgba(60, 64, 67, 0.15);\n",
              "      fill: #174EA6;\n",
              "    }\n",
              "\n",
              "    [theme=dark] .colab-df-convert {\n",
              "      background-color: #3B4455;\n",
              "      fill: #D2E3FC;\n",
              "    }\n",
              "\n",
              "    [theme=dark] .colab-df-convert:hover {\n",
              "      background-color: #434B5C;\n",
              "      box-shadow: 0px 1px 3px 1px rgba(0, 0, 0, 0.15);\n",
              "      filter: drop-shadow(0px 1px 2px rgba(0, 0, 0, 0.3));\n",
              "      fill: #FFFFFF;\n",
              "    }\n",
              "  </style>\n",
              "\n",
              "      <script>\n",
              "        const buttonEl =\n",
              "          document.querySelector('#df-13cd5e8c-a17f-4fc5-85a1-05da68420255 button.colab-df-convert');\n",
              "        buttonEl.style.display =\n",
              "          google.colab.kernel.accessAllowed ? 'block' : 'none';\n",
              "\n",
              "        async function convertToInteractive(key) {\n",
              "          const element = document.querySelector('#df-13cd5e8c-a17f-4fc5-85a1-05da68420255');\n",
              "          const dataTable =\n",
              "            await google.colab.kernel.invokeFunction('convertToInteractive',\n",
              "                                                     [key], {});\n",
              "          if (!dataTable) return;\n",
              "\n",
              "          const docLinkHtml = 'Like what you see? Visit the ' +\n",
              "            '<a target=\"_blank\" href=https://colab.research.google.com/notebooks/data_table.ipynb>data table notebook</a>'\n",
              "            + ' to learn more about interactive tables.';\n",
              "          element.innerHTML = '';\n",
              "          dataTable['output_type'] = 'display_data';\n",
              "          await google.colab.output.renderOutput(dataTable, element);\n",
              "          const docLink = document.createElement('div');\n",
              "          docLink.innerHTML = docLinkHtml;\n",
              "          element.appendChild(docLink);\n",
              "        }\n",
              "      </script>\n",
              "    </div>\n",
              "  </div>\n",
              "  "
            ]
          },
          "metadata": {},
          "execution_count": 3
        }
      ],
      "source": [
        " # Load the stock data\n",
        "df = pd.read_csv(\"stock.csv\")\n",
        "\n",
        "# View the first 10 rows of the stock data\n",
        "# We can see that there doesn't seem to be any weekend days in the data.\n",
        "# 23-11-15 is a Monday the first thursday is missing.\n",
        "df.head(20)"
      ]
    },
    {
      "cell_type": "code",
      "execution_count": null,
      "metadata": {
        "colab": {
          "base_uri": "https://localhost:8080/",
          "height": 300
        },
        "id": "6-f1GK0OhfuE",
        "outputId": "77f855fe-5d1f-4d2c-9247-aa9bd77dcb04"
      },
      "outputs": [
        {
          "output_type": "execute_result",
          "data": {
            "text/plain": [
              "             Stock          Oil  EuroToDollar         Gold\n",
              "count  1033.000000  1023.000000   1021.000000  1033.000000\n",
              "mean   2537.063011    53.655484      0.883818  1353.312488\n",
              "std     338.853458     9.799842      0.034394    89.592361\n",
              "min    1833.400024    27.299999      0.800800  1090.200000\n",
              "25%    2204.969971    47.594999      0.859700  1303.800000\n",
              "50%    2584.000000    53.049999      0.887900  1346.500000\n",
              "75%    2811.350098    60.625000      0.904500  1403.900000\n",
              "max    3247.229980    76.180000      0.963900  1584.500000"
            ],
            "text/html": [
              "\n",
              "  <div id=\"df-8a957386-8eb2-4612-a684-45baeaf17f06\">\n",
              "    <div class=\"colab-df-container\">\n",
              "      <div>\n",
              "<style scoped>\n",
              "    .dataframe tbody tr th:only-of-type {\n",
              "        vertical-align: middle;\n",
              "    }\n",
              "\n",
              "    .dataframe tbody tr th {\n",
              "        vertical-align: top;\n",
              "    }\n",
              "\n",
              "    .dataframe thead th {\n",
              "        text-align: right;\n",
              "    }\n",
              "</style>\n",
              "<table border=\"1\" class=\"dataframe\">\n",
              "  <thead>\n",
              "    <tr style=\"text-align: right;\">\n",
              "      <th></th>\n",
              "      <th>Stock</th>\n",
              "      <th>Oil</th>\n",
              "      <th>EuroToDollar</th>\n",
              "      <th>Gold</th>\n",
              "    </tr>\n",
              "  </thead>\n",
              "  <tbody>\n",
              "    <tr>\n",
              "      <th>count</th>\n",
              "      <td>1033.000000</td>\n",
              "      <td>1023.000000</td>\n",
              "      <td>1021.000000</td>\n",
              "      <td>1033.000000</td>\n",
              "    </tr>\n",
              "    <tr>\n",
              "      <th>mean</th>\n",
              "      <td>2537.063011</td>\n",
              "      <td>53.655484</td>\n",
              "      <td>0.883818</td>\n",
              "      <td>1353.312488</td>\n",
              "    </tr>\n",
              "    <tr>\n",
              "      <th>std</th>\n",
              "      <td>338.853458</td>\n",
              "      <td>9.799842</td>\n",
              "      <td>0.034394</td>\n",
              "      <td>89.592361</td>\n",
              "    </tr>\n",
              "    <tr>\n",
              "      <th>min</th>\n",
              "      <td>1833.400024</td>\n",
              "      <td>27.299999</td>\n",
              "      <td>0.800800</td>\n",
              "      <td>1090.200000</td>\n",
              "    </tr>\n",
              "    <tr>\n",
              "      <th>25%</th>\n",
              "      <td>2204.969971</td>\n",
              "      <td>47.594999</td>\n",
              "      <td>0.859700</td>\n",
              "      <td>1303.800000</td>\n",
              "    </tr>\n",
              "    <tr>\n",
              "      <th>50%</th>\n",
              "      <td>2584.000000</td>\n",
              "      <td>53.049999</td>\n",
              "      <td>0.887900</td>\n",
              "      <td>1346.500000</td>\n",
              "    </tr>\n",
              "    <tr>\n",
              "      <th>75%</th>\n",
              "      <td>2811.350098</td>\n",
              "      <td>60.625000</td>\n",
              "      <td>0.904500</td>\n",
              "      <td>1403.900000</td>\n",
              "    </tr>\n",
              "    <tr>\n",
              "      <th>max</th>\n",
              "      <td>3247.229980</td>\n",
              "      <td>76.180000</td>\n",
              "      <td>0.963900</td>\n",
              "      <td>1584.500000</td>\n",
              "    </tr>\n",
              "  </tbody>\n",
              "</table>\n",
              "</div>\n",
              "      <button class=\"colab-df-convert\" onclick=\"convertToInteractive('df-8a957386-8eb2-4612-a684-45baeaf17f06')\"\n",
              "              title=\"Convert this dataframe to an interactive table.\"\n",
              "              style=\"display:none;\">\n",
              "        \n",
              "  <svg xmlns=\"http://www.w3.org/2000/svg\" height=\"24px\"viewBox=\"0 0 24 24\"\n",
              "       width=\"24px\">\n",
              "    <path d=\"M0 0h24v24H0V0z\" fill=\"none\"/>\n",
              "    <path d=\"M18.56 5.44l.94 2.06.94-2.06 2.06-.94-2.06-.94-.94-2.06-.94 2.06-2.06.94zm-11 1L8.5 8.5l.94-2.06 2.06-.94-2.06-.94L8.5 2.5l-.94 2.06-2.06.94zm10 10l.94 2.06.94-2.06 2.06-.94-2.06-.94-.94-2.06-.94 2.06-2.06.94z\"/><path d=\"M17.41 7.96l-1.37-1.37c-.4-.4-.92-.59-1.43-.59-.52 0-1.04.2-1.43.59L10.3 9.45l-7.72 7.72c-.78.78-.78 2.05 0 2.83L4 21.41c.39.39.9.59 1.41.59.51 0 1.02-.2 1.41-.59l7.78-7.78 2.81-2.81c.8-.78.8-2.07 0-2.86zM5.41 20L4 18.59l7.72-7.72 1.47 1.35L5.41 20z\"/>\n",
              "  </svg>\n",
              "      </button>\n",
              "      \n",
              "  <style>\n",
              "    .colab-df-container {\n",
              "      display:flex;\n",
              "      flex-wrap:wrap;\n",
              "      gap: 12px;\n",
              "    }\n",
              "\n",
              "    .colab-df-convert {\n",
              "      background-color: #E8F0FE;\n",
              "      border: none;\n",
              "      border-radius: 50%;\n",
              "      cursor: pointer;\n",
              "      display: none;\n",
              "      fill: #1967D2;\n",
              "      height: 32px;\n",
              "      padding: 0 0 0 0;\n",
              "      width: 32px;\n",
              "    }\n",
              "\n",
              "    .colab-df-convert:hover {\n",
              "      background-color: #E2EBFA;\n",
              "      box-shadow: 0px 1px 2px rgba(60, 64, 67, 0.3), 0px 1px 3px 1px rgba(60, 64, 67, 0.15);\n",
              "      fill: #174EA6;\n",
              "    }\n",
              "\n",
              "    [theme=dark] .colab-df-convert {\n",
              "      background-color: #3B4455;\n",
              "      fill: #D2E3FC;\n",
              "    }\n",
              "\n",
              "    [theme=dark] .colab-df-convert:hover {\n",
              "      background-color: #434B5C;\n",
              "      box-shadow: 0px 1px 3px 1px rgba(0, 0, 0, 0.15);\n",
              "      filter: drop-shadow(0px 1px 2px rgba(0, 0, 0, 0.3));\n",
              "      fill: #FFFFFF;\n",
              "    }\n",
              "  </style>\n",
              "\n",
              "      <script>\n",
              "        const buttonEl =\n",
              "          document.querySelector('#df-8a957386-8eb2-4612-a684-45baeaf17f06 button.colab-df-convert');\n",
              "        buttonEl.style.display =\n",
              "          google.colab.kernel.accessAllowed ? 'block' : 'none';\n",
              "\n",
              "        async function convertToInteractive(key) {\n",
              "          const element = document.querySelector('#df-8a957386-8eb2-4612-a684-45baeaf17f06');\n",
              "          const dataTable =\n",
              "            await google.colab.kernel.invokeFunction('convertToInteractive',\n",
              "                                                     [key], {});\n",
              "          if (!dataTable) return;\n",
              "\n",
              "          const docLinkHtml = 'Like what you see? Visit the ' +\n",
              "            '<a target=\"_blank\" href=https://colab.research.google.com/notebooks/data_table.ipynb>data table notebook</a>'\n",
              "            + ' to learn more about interactive tables.';\n",
              "          element.innerHTML = '';\n",
              "          dataTable['output_type'] = 'display_data';\n",
              "          await google.colab.output.renderOutput(dataTable, element);\n",
              "          const docLink = document.createElement('div');\n",
              "          docLink.innerHTML = docLinkHtml;\n",
              "          element.appendChild(docLink);\n",
              "        }\n",
              "      </script>\n",
              "    </div>\n",
              "  </div>\n",
              "  "
            ]
          },
          "metadata": {},
          "execution_count": 4
        }
      ],
      "source": [
        "#Viewing the data, no negative values!\n",
        "df.describe()"
      ]
    },
    {
      "cell_type": "code",
      "execution_count": null,
      "metadata": {
        "colab": {
          "base_uri": "https://localhost:8080/"
        },
        "id": "3RI9KM4OhfuF",
        "outputId": "4d7d3555-f8ca-46fd-b837-2f3ff0f32ce4"
      },
      "outputs": [
        {
          "output_type": "execute_result",
          "data": {
            "text/plain": [
              "Date             object\n",
              "Stock           float64\n",
              "Oil             float64\n",
              "EuroToDollar    float64\n",
              "Gold            float64\n",
              "dtype: object"
            ]
          },
          "metadata": {},
          "execution_count": 5
        }
      ],
      "source": [
        "# Checking types. Date is not a number.\n",
        "df.dtypes"
      ]
    },
    {
      "cell_type": "code",
      "execution_count": null,
      "metadata": {
        "id": "v0vbkl9LhfuF"
      },
      "outputs": [],
      "source": [
        "# Convert the 'Date' column to datetime type\n",
        "df['Date'] = pd.to_datetime(df['Date'])\n",
        "\n",
        "# Convert the 'Date' column to integers\n",
        "df['Date'] = (df['Date'] - df['Date'].min()) / np.timedelta64(1,'D')\n",
        "df['Date'] = df['Date'].astype(int)"
      ]
    },
    {
      "cell_type": "code",
      "execution_count": null,
      "metadata": {
        "colab": {
          "base_uri": "https://localhost:8080/"
        },
        "id": "yb-wjZTJQxB4",
        "outputId": "8272fa2a-ae5a-450c-846d-14a694d05463"
      },
      "outputs": [
        {
          "output_type": "execute_result",
          "data": {
            "text/plain": [
              "Date              int64\n",
              "Stock           float64\n",
              "Oil             float64\n",
              "EuroToDollar    float64\n",
              "Gold            float64\n",
              "dtype: object"
            ]
          },
          "metadata": {},
          "execution_count": 7
        }
      ],
      "source": [
        "df.dtypes"
      ]
    },
    {
      "cell_type": "code",
      "execution_count": null,
      "metadata": {
        "colab": {
          "base_uri": "https://localhost:8080/",
          "height": 363
        },
        "id": "F3tRdM7hhfuF",
        "outputId": "772e7e34-f1bc-4a3c-f583-e9bf258810dc"
      },
      "outputs": [
        {
          "output_type": "execute_result",
          "data": {
            "text/plain": [
              "   Date        Stock        Oil  EuroToDollar    Gold\n",
              "0     0  2089.409912  41.490002        0.9432  1124.7\n",
              "1     1  2084.419922  42.040001        0.9388  1131.6\n",
              "2     2  2089.300049  42.689999        0.9420  1128.4\n",
              "3     4  2088.820068  43.250000        0.9438  1114.5\n",
              "4     7  2090.949951  41.770000        0.9468  1123.9\n",
              "5     8  2082.929932  41.730000        0.9416  1122.0\n",
              "6     9  2101.709961  41.689999        0.9458  1112.4\n",
              "7    10  2080.709961  40.150002        0.9173  1120.6\n",
              "8    11  2051.239990  41.310001        0.9188  1143.2\n",
              "9    14  2090.419922  40.099998        0.9225  1134.3"
            ],
            "text/html": [
              "\n",
              "  <div id=\"df-94371c3f-58a4-4b70-b4f7-8dce77bb3bad\">\n",
              "    <div class=\"colab-df-container\">\n",
              "      <div>\n",
              "<style scoped>\n",
              "    .dataframe tbody tr th:only-of-type {\n",
              "        vertical-align: middle;\n",
              "    }\n",
              "\n",
              "    .dataframe tbody tr th {\n",
              "        vertical-align: top;\n",
              "    }\n",
              "\n",
              "    .dataframe thead th {\n",
              "        text-align: right;\n",
              "    }\n",
              "</style>\n",
              "<table border=\"1\" class=\"dataframe\">\n",
              "  <thead>\n",
              "    <tr style=\"text-align: right;\">\n",
              "      <th></th>\n",
              "      <th>Date</th>\n",
              "      <th>Stock</th>\n",
              "      <th>Oil</th>\n",
              "      <th>EuroToDollar</th>\n",
              "      <th>Gold</th>\n",
              "    </tr>\n",
              "  </thead>\n",
              "  <tbody>\n",
              "    <tr>\n",
              "      <th>0</th>\n",
              "      <td>0</td>\n",
              "      <td>2089.409912</td>\n",
              "      <td>41.490002</td>\n",
              "      <td>0.9432</td>\n",
              "      <td>1124.7</td>\n",
              "    </tr>\n",
              "    <tr>\n",
              "      <th>1</th>\n",
              "      <td>1</td>\n",
              "      <td>2084.419922</td>\n",
              "      <td>42.040001</td>\n",
              "      <td>0.9388</td>\n",
              "      <td>1131.6</td>\n",
              "    </tr>\n",
              "    <tr>\n",
              "      <th>2</th>\n",
              "      <td>2</td>\n",
              "      <td>2089.300049</td>\n",
              "      <td>42.689999</td>\n",
              "      <td>0.9420</td>\n",
              "      <td>1128.4</td>\n",
              "    </tr>\n",
              "    <tr>\n",
              "      <th>3</th>\n",
              "      <td>4</td>\n",
              "      <td>2088.820068</td>\n",
              "      <td>43.250000</td>\n",
              "      <td>0.9438</td>\n",
              "      <td>1114.5</td>\n",
              "    </tr>\n",
              "    <tr>\n",
              "      <th>4</th>\n",
              "      <td>7</td>\n",
              "      <td>2090.949951</td>\n",
              "      <td>41.770000</td>\n",
              "      <td>0.9468</td>\n",
              "      <td>1123.9</td>\n",
              "    </tr>\n",
              "    <tr>\n",
              "      <th>5</th>\n",
              "      <td>8</td>\n",
              "      <td>2082.929932</td>\n",
              "      <td>41.730000</td>\n",
              "      <td>0.9416</td>\n",
              "      <td>1122.0</td>\n",
              "    </tr>\n",
              "    <tr>\n",
              "      <th>6</th>\n",
              "      <td>9</td>\n",
              "      <td>2101.709961</td>\n",
              "      <td>41.689999</td>\n",
              "      <td>0.9458</td>\n",
              "      <td>1112.4</td>\n",
              "    </tr>\n",
              "    <tr>\n",
              "      <th>7</th>\n",
              "      <td>10</td>\n",
              "      <td>2080.709961</td>\n",
              "      <td>40.150002</td>\n",
              "      <td>0.9173</td>\n",
              "      <td>1120.6</td>\n",
              "    </tr>\n",
              "    <tr>\n",
              "      <th>8</th>\n",
              "      <td>11</td>\n",
              "      <td>2051.239990</td>\n",
              "      <td>41.310001</td>\n",
              "      <td>0.9188</td>\n",
              "      <td>1143.2</td>\n",
              "    </tr>\n",
              "    <tr>\n",
              "      <th>9</th>\n",
              "      <td>14</td>\n",
              "      <td>2090.419922</td>\n",
              "      <td>40.099998</td>\n",
              "      <td>0.9225</td>\n",
              "      <td>1134.3</td>\n",
              "    </tr>\n",
              "  </tbody>\n",
              "</table>\n",
              "</div>\n",
              "      <button class=\"colab-df-convert\" onclick=\"convertToInteractive('df-94371c3f-58a4-4b70-b4f7-8dce77bb3bad')\"\n",
              "              title=\"Convert this dataframe to an interactive table.\"\n",
              "              style=\"display:none;\">\n",
              "        \n",
              "  <svg xmlns=\"http://www.w3.org/2000/svg\" height=\"24px\"viewBox=\"0 0 24 24\"\n",
              "       width=\"24px\">\n",
              "    <path d=\"M0 0h24v24H0V0z\" fill=\"none\"/>\n",
              "    <path d=\"M18.56 5.44l.94 2.06.94-2.06 2.06-.94-2.06-.94-.94-2.06-.94 2.06-2.06.94zm-11 1L8.5 8.5l.94-2.06 2.06-.94-2.06-.94L8.5 2.5l-.94 2.06-2.06.94zm10 10l.94 2.06.94-2.06 2.06-.94-2.06-.94-.94-2.06-.94 2.06-2.06.94z\"/><path d=\"M17.41 7.96l-1.37-1.37c-.4-.4-.92-.59-1.43-.59-.52 0-1.04.2-1.43.59L10.3 9.45l-7.72 7.72c-.78.78-.78 2.05 0 2.83L4 21.41c.39.39.9.59 1.41.59.51 0 1.02-.2 1.41-.59l7.78-7.78 2.81-2.81c.8-.78.8-2.07 0-2.86zM5.41 20L4 18.59l7.72-7.72 1.47 1.35L5.41 20z\"/>\n",
              "  </svg>\n",
              "      </button>\n",
              "      \n",
              "  <style>\n",
              "    .colab-df-container {\n",
              "      display:flex;\n",
              "      flex-wrap:wrap;\n",
              "      gap: 12px;\n",
              "    }\n",
              "\n",
              "    .colab-df-convert {\n",
              "      background-color: #E8F0FE;\n",
              "      border: none;\n",
              "      border-radius: 50%;\n",
              "      cursor: pointer;\n",
              "      display: none;\n",
              "      fill: #1967D2;\n",
              "      height: 32px;\n",
              "      padding: 0 0 0 0;\n",
              "      width: 32px;\n",
              "    }\n",
              "\n",
              "    .colab-df-convert:hover {\n",
              "      background-color: #E2EBFA;\n",
              "      box-shadow: 0px 1px 2px rgba(60, 64, 67, 0.3), 0px 1px 3px 1px rgba(60, 64, 67, 0.15);\n",
              "      fill: #174EA6;\n",
              "    }\n",
              "\n",
              "    [theme=dark] .colab-df-convert {\n",
              "      background-color: #3B4455;\n",
              "      fill: #D2E3FC;\n",
              "    }\n",
              "\n",
              "    [theme=dark] .colab-df-convert:hover {\n",
              "      background-color: #434B5C;\n",
              "      box-shadow: 0px 1px 3px 1px rgba(0, 0, 0, 0.15);\n",
              "      filter: drop-shadow(0px 1px 2px rgba(0, 0, 0, 0.3));\n",
              "      fill: #FFFFFF;\n",
              "    }\n",
              "  </style>\n",
              "\n",
              "      <script>\n",
              "        const buttonEl =\n",
              "          document.querySelector('#df-94371c3f-58a4-4b70-b4f7-8dce77bb3bad button.colab-df-convert');\n",
              "        buttonEl.style.display =\n",
              "          google.colab.kernel.accessAllowed ? 'block' : 'none';\n",
              "\n",
              "        async function convertToInteractive(key) {\n",
              "          const element = document.querySelector('#df-94371c3f-58a4-4b70-b4f7-8dce77bb3bad');\n",
              "          const dataTable =\n",
              "            await google.colab.kernel.invokeFunction('convertToInteractive',\n",
              "                                                     [key], {});\n",
              "          if (!dataTable) return;\n",
              "\n",
              "          const docLinkHtml = 'Like what you see? Visit the ' +\n",
              "            '<a target=\"_blank\" href=https://colab.research.google.com/notebooks/data_table.ipynb>data table notebook</a>'\n",
              "            + ' to learn more about interactive tables.';\n",
              "          element.innerHTML = '';\n",
              "          dataTable['output_type'] = 'display_data';\n",
              "          await google.colab.output.renderOutput(dataTable, element);\n",
              "          const docLink = document.createElement('div');\n",
              "          docLink.innerHTML = docLinkHtml;\n",
              "          element.appendChild(docLink);\n",
              "        }\n",
              "      </script>\n",
              "    </div>\n",
              "  </div>\n",
              "  "
            ]
          },
          "metadata": {},
          "execution_count": 8
        }
      ],
      "source": [
        "df.head(10)"
      ]
    },
    {
      "cell_type": "code",
      "execution_count": null,
      "metadata": {
        "colab": {
          "base_uri": "https://localhost:8080/",
          "height": 265
        },
        "id": "f428deXghfuF",
        "outputId": "fd210120-4fdc-4be3-a17f-97dcb6b5a8b9"
      },
      "outputs": [
        {
          "output_type": "display_data",
          "data": {
            "text/plain": [
              "<Figure size 432x288 with 5 Axes>"
            ],
            "image/png": "[encoded data removed]"
          },
          "metadata": {
            "needs_background": "light"
          }
        }
      ],
      "source": [
        "ax = df.plot(subplots=True)"
      ]
    },
    {
      "cell_type": "code",
      "execution_count": null,
      "metadata": {
        "colab": {
          "base_uri": "https://localhost:8080/",
          "height": 263
        },
        "id": "dOb5TkyDb-sd",
        "outputId": "ae9f742b-2634-4ac0-c0df-485551d151b2"
      },
      "outputs": [
        {
          "output_type": "display_data",
          "data": {
            "text/plain": [
              "<Figure size 216x216 with 1 Axes>"
            ],
            "image/png": "[encoded data removed]"
          },
          "metadata": {
            "needs_background": "light"
          }
        }
      ],
      "source": [
        "plt.figure(figsize=(3, 3))\n",
        "# checking correlation\n",
        "sn.heatmap(df.corr(), annot=True, cbar=False)\n",
        "plt.show()"
      ]
    },
    {
      "cell_type": "code",
      "execution_count": null,
      "metadata": {
        "id": "S0fzNEVRcR4p"
      },
      "outputs": [],
      "source": [
        "#EuroToDollar has a negative correlation to Stock. Dropping it\n",
        "df = df.drop('EuroToDollar',axis=1)"
      ]
    },
    {
      "cell_type": "code",
      "execution_count": null,
      "metadata": {
        "id": "4_evteS8hfuF"
      },
      "outputs": [],
      "source": [
        "#Split the data 20% test\n",
        "X_train, X_test = train_test_split(df,test_size=0.2, shuffle=False)"
      ]
    },
    {
      "cell_type": "code",
      "execution_count": null,
      "metadata": {
        "colab": {
          "base_uri": "https://localhost:8080/"
        },
        "id": "cjUjSeqmhfuG",
        "outputId": "6109fc11-1e3b-4d73-db57-1fed3208e904"
      },
      "outputs": [
        {
          "output_type": "stream",
          "name": "stdout",
          "text": [
            "Date     0\n",
            "Stock    0\n",
            "Oil      7\n",
            "Gold     0\n",
            "dtype: int64\n",
            "Date     0\n",
            "Stock    0\n",
            "Oil      3\n",
            "Gold     0\n",
            "dtype: int64\n"
          ]
        }
      ],
      "source": [
        " # Check for any NaN values\n",
        "print(X_train.isna().sum())\n",
        "print(X_test.isna().sum())"
      ]
    },
    {
      "cell_type": "markdown",
      "metadata": {
        "id": "W1Cp-0Q-hfuG"
      },
      "source": [
        "**Task 2: data cleaning**\n",
        "\n",
        "There are a number of missing values in the data. Clean the data so that it is suitable for use with the NN. Bare in mind that you want to retain the time coherency of the data as much as possible.\n"
      ]
    },
    {
      "cell_type": "code",
      "execution_count": null,
      "metadata": {
        "id": "GaDlIyXIhfuG"
      },
      "outputs": [],
      "source": [
        "# Use linear interpolation to fill in any missing values\n",
        "X_train = X_train.interpolate(method ='linear')\n",
        "X_test = X_test.interpolate(method ='linear')"
      ]
    },
    {
      "cell_type": "code",
      "execution_count": null,
      "metadata": {
        "colab": {
          "base_uri": "https://localhost:8080/"
        },
        "id": "OsR25MxuhfuG",
        "outputId": "de188172-322b-44c7-b362-c149a910d4de"
      },
      "outputs": [
        {
          "output_type": "stream",
          "name": "stdout",
          "text": [
            "Date     0\n",
            "Stock    0\n",
            "Oil      0\n",
            "Gold     0\n",
            "dtype: int64\n",
            "Date     0\n",
            "Stock    0\n",
            "Oil      0\n",
            "Gold     0\n",
            "dtype: int64\n"
          ]
        }
      ],
      "source": [
        " # Check for any NaN values\n",
        "print(X_train.isna().sum())\n",
        "print(X_test.isna().sum())"
      ]
    },
    {
      "cell_type": "code",
      "execution_count": null,
      "metadata": {
        "colab": {
          "base_uri": "https://localhost:8080/"
        },
        "id": "i4EnGwuEfNhQ",
        "outputId": "c819576c-add0-4b8b-e7b1-45c0668c7dc9"
      },
      "outputs": [
        {
          "output_type": "stream",
          "name": "stdout",
          "text": [
            "0\n"
          ]
        }
      ],
      "source": [
        "# checking for duplicate days\n",
        "print(df['Date'].duplicated().sum())"
      ]
    },
    {
      "cell_type": "code",
      "execution_count": null,
      "metadata": {
        "colab": {
          "base_uri": "https://localhost:8080/",
          "height": 265
        },
        "id": "JvBqoJTGhfuG",
        "outputId": "4443d76d-858b-47f3-f0a3-b927e2f8efc0"
      },
      "outputs": [
        {
          "output_type": "display_data",
          "data": {
            "text/plain": [
              "<Figure size 432x288 with 4 Axes>"
            ],
            "image/png": "[encoded data removed]"
          },
          "metadata": {
            "needs_background": "light"
          }
        }
      ],
      "source": [
        "# checking that it is in time sequence\n",
        "ax = X_train.plot(subplots=True)"
      ]
    },
    {
      "cell_type": "code",
      "execution_count": null,
      "metadata": {
        "id": "dEucNT2NhfuG"
      },
      "outputs": [],
      "source": [
        "scaler = MinMaxScaler()\n",
        "# Transform the data\n",
        "X_train_scaled = pd.DataFrame(scaler.fit_transform(X_train), columns=X_train.columns)\n",
        "X_test_scaled = pd.DataFrame(scaler.transform(X_test), columns=X_test.columns)"
      ]
    },
    {
      "cell_type": "code",
      "execution_count": null,
      "metadata": {
        "id": "fltdOddMhfuG"
      },
      "outputs": [],
      "source": [
        "# Define the number of time steps in our sequences of data\n",
        "#20 is approx a month as every weekend is s\n",
        "ntime = 20"
      ]
    },
    {
      "cell_type": "code",
      "execution_count": null,
      "metadata": {
        "id": "RJOyKL-MhfuG"
      },
      "outputs": [],
      "source": [
        "#creating rolling sequences for ntimes\n",
        "def create_rolling_sequence(df,time_steps=5):\n",
        "    data = df.values\n",
        "    stock_val = df['Stock']\n",
        "    #Take the x no. of time step values as X_sequence and get the x+1 value for y_sequence.\n",
        "    X_sequence = [data[i:i + time_steps, :] for i in range(len(data) - time_steps)]\n",
        "    y_sequence = [stock_val[i + time_steps] for i in range(len(data) - time_steps)]\n",
        "    return np.array(X_sequence), np.array(y_sequence)"
      ]
    },
    {
      "cell_type": "code",
      "execution_count": null,
      "metadata": {
        "id": "_VEhad6bhfuH"
      },
      "outputs": [],
      "source": [
        "# Create the rolling sequence\n",
        "X_train_seq, y_train_seq = create_rolling_sequence(X_train_scaled,time_steps=ntime)\n",
        "#Creating a validation set\n",
        "X_train_seq, X_val, y_train_seq, y_val = train_test_split(X_train_seq,y_train_seq,test_size=0.2, shuffle=False)"
      ]
    },
    {
      "cell_type": "code",
      "execution_count": null,
      "metadata": {
        "id": "1WluYEjShfuH"
      },
      "outputs": [],
      "source": [
        "# Split the data into training and testing sets\n",
        "X_test_seq, y_test_seq = create_rolling_sequence(X_test_scaled, time_steps=ntime)"
      ]
    },
    {
      "cell_type": "markdown",
      "metadata": {
        "id": "8zfeYAnAhfuH"
      },
      "source": [
        "**Task 3: model construction**\n",
        "\n",
        "Construct a RNN network that will predict the future value of Stock, one day/time inteval in advance."
      ]
    },
    {
      "cell_type": "code",
      "execution_count": null,
      "metadata": {
        "id": "M7QTq77xhfuH"
      },
      "outputs": [],
      "source": [
        "# Define the number of variables in our dataset\n",
        "nvars = X_train_seq.shape[2]"
      ]
    },
    {
      "cell_type": "code",
      "execution_count": null,
      "metadata": {
        "id": "HRCgB6NRhfuH"
      },
      "outputs": [],
      "source": [
        "# Define the inputs\n",
        "inputs = Input(shape=(ntime, nvars))\n",
        "\n",
        "# Simple Recurrent Neural Network\n",
        "n = SimpleRNN(units = 50)(inputs)\n",
        "\n",
        "# output fully connected layer\n",
        "output = Dense(1, activation='linear')(n)\n",
        "\n",
        "\n",
        "rnn_model = Model(inputs, output, name=\"simple_rnn\")"
      ]
    },
    {
      "cell_type": "code",
      "execution_count": null,
      "metadata": {
        "colab": {
          "base_uri": "https://localhost:8080/"
        },
        "id": "gN3YnZC2hfuH",
        "outputId": "af52a733-6678-4635-ab15-f335441f9d0f"
      },
      "outputs": [
        {
          "output_type": "stream",
          "name": "stdout",
          "text": [
            "Model: \"simple_rnn\"\n",
            "_________________________________________________________________\n",
            " Layer (type)                Output Shape              Param #   \n",
            "=================================================================\n",
            " input_1 (InputLayer)        [(None, 20, 4)]           0         \n",
            "                                                                 \n",
            " simple_rnn (SimpleRNN)      (None, 50)                2750      \n",
            "                                                                 \n",
            " dense (Dense)               (None, 1)                 51        \n",
            "                                                                 \n",
            "=================================================================\n",
            "Total params: 2,801\n",
            "Trainable params: 2,801\n",
            "Non-trainable params: 0\n",
            "_________________________________________________________________\n"
          ]
        }
      ],
      "source": [
        " # Compile the model\n",
        "rnn_model.compile(loss='mse', optimizer='adam')\n",
        "rnn_model.summary()"
      ]
    },
    {
      "cell_type": "markdown",
      "metadata": {
        "id": "qRNo8OTShfuH"
      },
      "source": [
        "**Task 4: test**\n",
        "\n",
        "Evaluate the model on the test set and display any change in accuracy over time, if any. Test for common issues found ion deep learning models.\n"
      ]
    },
    {
      "cell_type": "code",
      "execution_count": null,
      "metadata": {
        "colab": {
          "base_uri": "https://localhost:8080/"
        },
        "id": "Gr8BSJENhfuH",
        "outputId": "c1bae965-d1a9-468c-dc87-7cc77964587f"
      },
      "outputs": [
        {
          "output_type": "stream",
          "name": "stdout",
          "text": [
            "Epoch 1/1000\n",
            "21/21 [==============================] - 6s 26ms/step - loss: 0.0118 - val_loss: 0.0113\n",
            "Epoch 2/1000\n",
            "21/21 [==============================] - 0s 13ms/step - loss: 0.2099 - val_loss: 0.0221\n",
            "Epoch 3/1000\n",
            "21/21 [==============================] - 0s 13ms/step - loss: 0.1336 - val_loss: 0.0299\n",
            "Epoch 4/1000\n",
            "21/21 [==============================] - 0s 13ms/step - loss: 0.0097 - val_loss: 0.0105\n",
            "Epoch 5/1000\n",
            "21/21 [==============================] - 0s 13ms/step - loss: 0.0031 - val_loss: 0.0119\n",
            "Epoch 6/1000\n",
            "21/21 [==============================] - 0s 14ms/step - loss: 0.0030 - val_loss: 0.0122\n",
            "Epoch 7/1000\n",
            "21/21 [==============================] - 0s 13ms/step - loss: 0.0033 - val_loss: 0.0130\n",
            "Epoch 8/1000\n",
            "21/21 [==============================] - 0s 13ms/step - loss: 0.0034 - val_loss: 0.0132\n",
            "Epoch 9/1000\n",
            "21/21 [==============================] - 0s 13ms/step - loss: 0.0032 - val_loss: 0.0124\n",
            "Epoch 10/1000\n",
            "21/21 [==============================] - 0s 13ms/step - loss: 0.0030 - val_loss: 0.0117\n",
            "Epoch 11/1000\n",
            "21/21 [==============================] - 0s 14ms/step - loss: 0.0026 - val_loss: 0.0118\n",
            "Epoch 12/1000\n",
            "21/21 [==============================] - 0s 13ms/step - loss: 0.0023 - val_loss: 0.0122\n",
            "Epoch 13/1000\n",
            "21/21 [==============================] - 0s 14ms/step - loss: 0.0023 - val_loss: 0.0127\n",
            "Epoch 14/1000\n",
            "21/21 [==============================] - 0s 13ms/step - loss: 0.0024 - val_loss: 0.0130\n",
            "Epoch 15/1000\n",
            "21/21 [==============================] - 0s 14ms/step - loss: 0.0025 - val_loss: 0.0128\n",
            "Epoch 16/1000\n",
            "21/21 [==============================] - 0s 13ms/step - loss: 0.0026 - val_loss: 0.0120\n",
            "Epoch 17/1000\n",
            "21/21 [==============================] - 0s 13ms/step - loss: 0.0024 - val_loss: 0.0107\n",
            "Epoch 18/1000\n",
            "21/21 [==============================] - 0s 13ms/step - loss: 0.0019 - val_loss: 0.0095\n",
            "Epoch 19/1000\n",
            "21/21 [==============================] - 0s 12ms/step - loss: 0.0017 - val_loss: 0.0092\n",
            "Epoch 20/1000\n",
            "21/21 [==============================] - 0s 14ms/step - loss: 0.0021 - val_loss: 0.0107\n",
            "Epoch 21/1000\n",
            "21/21 [==============================] - 0s 14ms/step - loss: 0.0027 - val_loss: 0.0141\n",
            "Epoch 22/1000\n",
            "21/21 [==============================] - 0s 13ms/step - loss: 0.0034 - val_loss: 0.0181\n",
            "Epoch 23/1000\n",
            "21/21 [==============================] - 0s 13ms/step - loss: 0.0063 - val_loss: 0.0202\n",
            "Epoch 24/1000\n",
            "21/21 [==============================] - 0s 14ms/step - loss: 0.0076 - val_loss: 0.0142\n",
            "Epoch 25/1000\n",
            "21/21 [==============================] - 0s 14ms/step - loss: 0.0051 - val_loss: 0.0083\n",
            "Epoch 26/1000\n",
            "21/21 [==============================] - 0s 13ms/step - loss: 0.0074 - val_loss: 0.0102\n",
            "Epoch 27/1000\n",
            "21/21 [==============================] - 0s 14ms/step - loss: 0.0037 - val_loss: 0.0103\n",
            "Epoch 28/1000\n",
            "21/21 [==============================] - 0s 13ms/step - loss: 0.0086 - val_loss: 0.0241\n",
            "Epoch 29/1000\n",
            "21/21 [==============================] - 0s 14ms/step - loss: 0.0047 - val_loss: 0.0264\n",
            "Epoch 30/1000\n",
            "21/21 [==============================] - 0s 13ms/step - loss: 0.0040 - val_loss: 0.0224\n",
            "Epoch 31/1000\n",
            "21/21 [==============================] - 0s 13ms/step - loss: 0.0069 - val_loss: 0.0109\n",
            "Epoch 32/1000\n",
            "21/21 [==============================] - 0s 13ms/step - loss: 0.0056 - val_loss: 0.0076\n",
            "Epoch 33/1000\n",
            "21/21 [==============================] - 0s 13ms/step - loss: 0.0035 - val_loss: 0.0108\n",
            "Epoch 34/1000\n",
            "21/21 [==============================] - 0s 14ms/step - loss: 0.0034 - val_loss: 0.0054\n",
            "Epoch 35/1000\n",
            "21/21 [==============================] - 0s 14ms/step - loss: 0.0041 - val_loss: 0.0092\n",
            "Epoch 36/1000\n",
            "21/21 [==============================] - 0s 13ms/step - loss: 0.0033 - val_loss: 0.0172\n",
            "Epoch 37/1000\n",
            "21/21 [==============================] - 0s 14ms/step - loss: 0.0025 - val_loss: 0.0097\n",
            "Epoch 38/1000\n",
            "21/21 [==============================] - 0s 15ms/step - loss: 0.0025 - val_loss: 0.0080\n",
            "Epoch 39/1000\n",
            "21/21 [==============================] - 0s 13ms/step - loss: 0.0023 - val_loss: 0.0075\n",
            "Epoch 40/1000\n",
            "21/21 [==============================] - 0s 13ms/step - loss: 0.0012 - val_loss: 0.0058\n",
            "Epoch 41/1000\n",
            "21/21 [==============================] - 0s 13ms/step - loss: 0.0013 - val_loss: 0.0055\n",
            "Epoch 42/1000\n",
            "21/21 [==============================] - 0s 13ms/step - loss: 0.0014 - val_loss: 0.0068\n",
            "Epoch 43/1000\n",
            "21/21 [==============================] - 0s 14ms/step - loss: 0.0011 - val_loss: 0.0071\n",
            "Epoch 44/1000\n",
            "21/21 [==============================] - 0s 13ms/step - loss: 0.0011 - val_loss: 0.0070\n",
            "Epoch 45/1000\n",
            "21/21 [==============================] - 0s 13ms/step - loss: 0.0013 - val_loss: 0.0060\n",
            "Epoch 46/1000\n",
            "21/21 [==============================] - 0s 13ms/step - loss: 0.0011 - val_loss: 0.0054\n",
            "Epoch 47/1000\n",
            "21/21 [==============================] - 0s 13ms/step - loss: 9.7521e-04 - val_loss: 0.0051\n",
            "Epoch 48/1000\n",
            "21/21 [==============================] - 0s 13ms/step - loss: 8.7060e-04 - val_loss: 0.0046\n",
            "Epoch 49/1000\n",
            "21/21 [==============================] - 0s 13ms/step - loss: 9.5717e-04 - val_loss: 0.0045\n",
            "Epoch 50/1000\n",
            "21/21 [==============================] - 0s 13ms/step - loss: 0.0011 - val_loss: 0.0054\n",
            "Epoch 51/1000\n",
            "21/21 [==============================] - 0s 13ms/step - loss: 9.0324e-04 - val_loss: 0.0057\n",
            "Epoch 52/1000\n",
            "21/21 [==============================] - 0s 13ms/step - loss: 0.0010 - val_loss: 0.0070\n",
            "Epoch 53/1000\n",
            "21/21 [==============================] - 0s 13ms/step - loss: 0.0015 - val_loss: 0.0055\n",
            "Epoch 54/1000\n",
            "21/21 [==============================] - 0s 13ms/step - loss: 0.0014 - val_loss: 0.0057\n",
            "Epoch 55/1000\n",
            "21/21 [==============================] - 0s 13ms/step - loss: 0.0021 - val_loss: 0.0073\n",
            "Epoch 56/1000\n",
            "21/21 [==============================] - 0s 14ms/step - loss: 8.3746e-04 - val_loss: 0.0035\n",
            "Epoch 57/1000\n",
            "21/21 [==============================] - 0s 13ms/step - loss: 0.0021 - val_loss: 0.0132\n",
            "Epoch 58/1000\n",
            "21/21 [==============================] - 0s 13ms/step - loss: 0.0066 - val_loss: 0.0087\n",
            "Epoch 59/1000\n",
            "21/21 [==============================] - 0s 13ms/step - loss: 0.0020 - val_loss: 0.0051\n",
            "Epoch 60/1000\n",
            "21/21 [==============================] - 0s 13ms/step - loss: 0.0088 - val_loss: 0.0286\n",
            "Epoch 61/1000\n",
            "21/21 [==============================] - 0s 13ms/step - loss: 0.0027 - val_loss: 0.0157\n",
            "Epoch 62/1000\n",
            "21/21 [==============================] - 0s 13ms/step - loss: 0.0043 - val_loss: 0.0087\n",
            "Epoch 63/1000\n",
            "21/21 [==============================] - 0s 15ms/step - loss: 0.0042 - val_loss: 0.0049\n",
            "Epoch 64/1000\n",
            "21/21 [==============================] - 0s 13ms/step - loss: 0.0018 - val_loss: 0.0048\n",
            "Epoch 65/1000\n",
            "21/21 [==============================] - 0s 14ms/step - loss: 0.0019 - val_loss: 0.0031\n",
            "Epoch 66/1000\n",
            "21/21 [==============================] - 0s 16ms/step - loss: 0.0026 - val_loss: 0.0072\n",
            "Epoch 67/1000\n",
            "21/21 [==============================] - 0s 14ms/step - loss: 0.0017 - val_loss: 0.0120\n",
            "Epoch 68/1000\n",
            "21/21 [==============================] - 0s 15ms/step - loss: 0.0013 - val_loss: 0.0095\n",
            "Epoch 69/1000\n",
            "21/21 [==============================] - 0s 15ms/step - loss: 0.0017 - val_loss: 0.0056\n",
            "Epoch 70/1000\n",
            "21/21 [==============================] - 0s 14ms/step - loss: 0.0011 - val_loss: 0.0041\n",
            "Epoch 71/1000\n",
            "21/21 [==============================] - 0s 13ms/step - loss: 7.2523e-04 - val_loss: 0.0036\n",
            "Epoch 72/1000\n",
            "21/21 [==============================] - 0s 14ms/step - loss: 7.7516e-04 - val_loss: 0.0042\n",
            "Epoch 73/1000\n",
            "21/21 [==============================] - 0s 13ms/step - loss: 7.4215e-04 - val_loss: 0.0052\n",
            "Epoch 74/1000\n",
            "21/21 [==============================] - 0s 15ms/step - loss: 6.4898e-04 - val_loss: 0.0055\n",
            "Epoch 75/1000\n",
            "21/21 [==============================] - 0s 14ms/step - loss: 6.7122e-04 - val_loss: 0.0052\n",
            "Epoch 76/1000\n",
            "21/21 [==============================] - 0s 14ms/step - loss: 7.1988e-04 - val_loss: 0.0044\n",
            "Epoch 77/1000\n",
            "21/21 [==============================] - 0s 14ms/step - loss: 6.8275e-04 - val_loss: 0.0036\n",
            "Epoch 78/1000\n",
            "21/21 [==============================] - 0s 14ms/step - loss: 5.8425e-04 - val_loss: 0.0031\n",
            "Epoch 79/1000\n",
            "21/21 [==============================] - 0s 14ms/step - loss: 5.3101e-04 - val_loss: 0.0029\n",
            "Epoch 80/1000\n",
            "21/21 [==============================] - 0s 13ms/step - loss: 5.5267e-04 - val_loss: 0.0030\n",
            "Epoch 81/1000\n",
            "21/21 [==============================] - 0s 13ms/step - loss: 5.8060e-04 - val_loss: 0.0035\n",
            "Epoch 82/1000\n",
            "21/21 [==============================] - 0s 13ms/step - loss: 5.5293e-04 - val_loss: 0.0042\n",
            "Epoch 83/1000\n",
            "21/21 [==============================] - 0s 13ms/step - loss: 5.4142e-04 - val_loss: 0.0049\n",
            "Epoch 84/1000\n",
            "21/21 [==============================] - 0s 12ms/step - loss: 6.4043e-04 - val_loss: 0.0049\n",
            "Epoch 85/1000\n",
            "21/21 [==============================] - 0s 14ms/step - loss: 8.1529e-04 - val_loss: 0.0044\n",
            "Epoch 86/1000\n",
            "21/21 [==============================] - 0s 14ms/step - loss: 9.3024e-04 - val_loss: 0.0032\n",
            "Epoch 87/1000\n",
            "21/21 [==============================] - 0s 13ms/step - loss: 7.8883e-04 - val_loss: 0.0023\n",
            "Epoch 88/1000\n",
            "21/21 [==============================] - 0s 13ms/step - loss: 5.7273e-04 - val_loss: 0.0021\n",
            "Epoch 89/1000\n",
            "21/21 [==============================] - 0s 13ms/step - loss: 7.1699e-04 - val_loss: 0.0022\n",
            "Epoch 90/1000\n",
            "21/21 [==============================] - 0s 13ms/step - loss: 0.0015 - val_loss: 0.0019\n",
            "Epoch 91/1000\n",
            "21/21 [==============================] - 0s 13ms/step - loss: 0.0022 - val_loss: 0.0046\n",
            "Epoch 92/1000\n",
            "21/21 [==============================] - 0s 13ms/step - loss: 0.0020 - val_loss: 0.0115\n",
            "Epoch 93/1000\n",
            "21/21 [==============================] - 0s 13ms/step - loss: 0.0012 - val_loss: 0.0151\n",
            "Epoch 94/1000\n",
            "21/21 [==============================] - 0s 13ms/step - loss: 0.0021 - val_loss: 0.0140\n",
            "Epoch 95/1000\n",
            "21/21 [==============================] - 0s 13ms/step - loss: 0.0034 - val_loss: 0.0071\n",
            "Epoch 96/1000\n",
            "21/21 [==============================] - 0s 13ms/step - loss: 0.0033 - val_loss: 0.0029\n",
            "Epoch 97/1000\n",
            "21/21 [==============================] - 0s 13ms/step - loss: 0.0014 - val_loss: 0.0032\n",
            "Epoch 98/1000\n",
            "21/21 [==============================] - 0s 13ms/step - loss: 0.0013 - val_loss: 0.0031\n",
            "Epoch 99/1000\n",
            "21/21 [==============================] - 0s 13ms/step - loss: 0.0032 - val_loss: 0.0033\n",
            "Epoch 100/1000\n",
            "21/21 [==============================] - 0s 13ms/step - loss: 0.0024 - val_loss: 0.0087\n",
            "Epoch 101/1000\n",
            "21/21 [==============================] - 0s 13ms/step - loss: 0.0015 - val_loss: 0.0162\n",
            "Epoch 102/1000\n",
            "21/21 [==============================] - 0s 13ms/step - loss: 0.0017 - val_loss: 0.0067\n",
            "Epoch 103/1000\n",
            "21/21 [==============================] - 0s 14ms/step - loss: 0.0013 - val_loss: 0.0050\n",
            "Epoch 104/1000\n",
            "21/21 [==============================] - 0s 13ms/step - loss: 0.0012 - val_loss: 0.0027\n",
            "Epoch 105/1000\n",
            "21/21 [==============================] - 0s 13ms/step - loss: 5.1132e-04 - val_loss: 0.0025\n",
            "Epoch 106/1000\n",
            "21/21 [==============================] - 0s 13ms/step - loss: 5.7858e-04 - val_loss: 0.0026\n",
            "Epoch 107/1000\n",
            "21/21 [==============================] - 0s 13ms/step - loss: 6.4412e-04 - val_loss: 0.0039\n",
            "Epoch 108/1000\n",
            "21/21 [==============================] - 0s 14ms/step - loss: 4.8805e-04 - val_loss: 0.0045\n",
            "Epoch 109/1000\n",
            "21/21 [==============================] - 0s 13ms/step - loss: 4.7205e-04 - val_loss: 0.0045\n",
            "Epoch 110/1000\n",
            "21/21 [==============================] - 0s 13ms/step - loss: 5.6467e-04 - val_loss: 0.0038\n",
            "Epoch 111/1000\n",
            "21/21 [==============================] - 0s 13ms/step - loss: 5.8991e-04 - val_loss: 0.0031\n",
            "Epoch 112/1000\n",
            "21/21 [==============================] - 0s 13ms/step - loss: 5.3313e-04 - val_loss: 0.0023\n",
            "Epoch 113/1000\n",
            "21/21 [==============================] - 0s 13ms/step - loss: 4.1469e-04 - val_loss: 0.0019\n",
            "Epoch 114/1000\n",
            "21/21 [==============================] - 0s 14ms/step - loss: 3.8436e-04 - val_loss: 0.0017\n",
            "Epoch 115/1000\n",
            "21/21 [==============================] - 0s 14ms/step - loss: 4.4695e-04 - val_loss: 0.0017\n",
            "Epoch 116/1000\n",
            "21/21 [==============================] - 0s 14ms/step - loss: 5.0550e-04 - val_loss: 0.0021\n",
            "Epoch 117/1000\n",
            "21/21 [==============================] - 0s 14ms/step - loss: 4.9827e-04 - val_loss: 0.0031\n",
            "Epoch 118/1000\n",
            "21/21 [==============================] - 0s 15ms/step - loss: 4.1652e-04 - val_loss: 0.0041\n",
            "Epoch 119/1000\n",
            "21/21 [==============================] - 0s 14ms/step - loss: 4.7101e-04 - val_loss: 0.0049\n",
            "Epoch 120/1000\n",
            "21/21 [==============================] - 0s 14ms/step - loss: 7.3687e-04 - val_loss: 0.0047\n",
            "Epoch 121/1000\n",
            "21/21 [==============================] - 0s 14ms/step - loss: 0.0010 - val_loss: 0.0038\n",
            "Epoch 122/1000\n",
            "21/21 [==============================] - 0s 13ms/step - loss: 0.0011 - val_loss: 0.0021\n",
            "Epoch 123/1000\n",
            "21/21 [==============================] - 0s 13ms/step - loss: 7.6128e-04 - val_loss: 0.0014\n",
            "Epoch 124/1000\n",
            "21/21 [==============================] - 0s 13ms/step - loss: 5.1181e-04 - val_loss: 0.0019\n",
            "Epoch 125/1000\n",
            "21/21 [==============================] - 0s 14ms/step - loss: 8.7259e-04 - val_loss: 0.0019\n",
            "Epoch 126/1000\n",
            "21/21 [==============================] - 0s 13ms/step - loss: 0.0018 - val_loss: 0.0016\n",
            "Epoch 127/1000\n",
            "21/21 [==============================] - 0s 13ms/step - loss: 0.0027 - val_loss: 0.0059\n",
            "Epoch 128/1000\n",
            "21/21 [==============================] - 0s 13ms/step - loss: 0.0014 - val_loss: 0.0112\n",
            "Epoch 129/1000\n",
            "21/21 [==============================] - 0s 13ms/step - loss: 9.4258e-04 - val_loss: 0.0111\n",
            "Epoch 130/1000\n",
            "21/21 [==============================] - 0s 14ms/step - loss: 0.0018 - val_loss: 0.0095\n",
            "Epoch 131/1000\n",
            "21/21 [==============================] - 0s 14ms/step - loss: 0.0024 - val_loss: 0.0036\n",
            "Epoch 132/1000\n",
            "21/21 [==============================] - 0s 13ms/step - loss: 0.0015 - val_loss: 0.0020\n",
            "Epoch 133/1000\n",
            "21/21 [==============================] - 0s 13ms/step - loss: 7.2278e-04 - val_loss: 0.0019\n",
            "Epoch 134/1000\n",
            "21/21 [==============================] - 0s 14ms/step - loss: 8.5531e-04 - val_loss: 0.0013\n",
            "Epoch 135/1000\n",
            "21/21 [==============================] - 0s 13ms/step - loss: 0.0015 - val_loss: 0.0018\n",
            "Epoch 136/1000\n",
            "21/21 [==============================] - 0s 13ms/step - loss: 0.0017 - val_loss: 0.0071\n",
            "Epoch 137/1000\n",
            "21/21 [==============================] - 0s 14ms/step - loss: 6.3043e-04 - val_loss: 0.0081\n",
            "Epoch 138/1000\n",
            "21/21 [==============================] - 0s 13ms/step - loss: 8.1284e-04 - val_loss: 0.0066\n",
            "Epoch 139/1000\n",
            "21/21 [==============================] - 0s 14ms/step - loss: 0.0011 - val_loss: 0.0042\n",
            "Epoch 140/1000\n",
            "21/21 [==============================] - 0s 14ms/step - loss: 9.7842e-04 - val_loss: 0.0023\n",
            "Epoch 141/1000\n",
            "21/21 [==============================] - 0s 13ms/step - loss: 5.2077e-04 - val_loss: 0.0016\n",
            "Epoch 142/1000\n",
            "21/21 [==============================] - 0s 13ms/step - loss: 3.8349e-04 - val_loss: 0.0014\n",
            "Epoch 143/1000\n",
            "21/21 [==============================] - 0s 14ms/step - loss: 5.5454e-04 - val_loss: 0.0015\n",
            "Epoch 144/1000\n",
            "21/21 [==============================] - 0s 13ms/step - loss: 6.4753e-04 - val_loss: 0.0023\n",
            "Epoch 145/1000\n",
            "21/21 [==============================] - 0s 13ms/step - loss: 5.3633e-04 - val_loss: 0.0038\n",
            "Epoch 146/1000\n",
            "21/21 [==============================] - 0s 13ms/step - loss: 3.9055e-04 - val_loss: 0.0043\n",
            "Epoch 147/1000\n",
            "21/21 [==============================] - 0s 13ms/step - loss: 5.1672e-04 - val_loss: 0.0044\n",
            "Epoch 148/1000\n",
            "21/21 [==============================] - 0s 13ms/step - loss: 7.9459e-04 - val_loss: 0.0033\n",
            "Epoch 149/1000\n",
            "21/21 [==============================] - 0s 13ms/step - loss: 8.1379e-04 - val_loss: 0.0023\n",
            "Epoch 150/1000\n",
            "21/21 [==============================] - 0s 13ms/step - loss: 6.9651e-04 - val_loss: 0.0013\n",
            "Epoch 151/1000\n",
            "21/21 [==============================] - 0s 13ms/step - loss: 3.4868e-04 - val_loss: 0.0011\n",
            "Epoch 152/1000\n",
            "21/21 [==============================] - 0s 13ms/step - loss: 4.3300e-04 - val_loss: 0.0014\n",
            "Epoch 153/1000\n",
            "21/21 [==============================] - 0s 13ms/step - loss: 0.0010 - val_loss: 0.0013\n",
            "Epoch 154/1000\n",
            "21/21 [==============================] - 0s 14ms/step - loss: 8.8448e-04 - val_loss: 0.0015\n",
            "Epoch 155/1000\n",
            "21/21 [==============================] - 0s 13ms/step - loss: 0.0015 - val_loss: 0.0078\n",
            "Epoch 156/1000\n",
            "21/21 [==============================] - 0s 14ms/step - loss: 5.1128e-04 - val_loss: 0.0037\n",
            "Epoch 157/1000\n",
            "21/21 [==============================] - 0s 14ms/step - loss: 8.6719e-04 - val_loss: 0.0132\n",
            "Epoch 158/1000\n",
            "21/21 [==============================] - 0s 14ms/step - loss: 0.0022 - val_loss: 0.0024\n",
            "Epoch 159/1000\n",
            "21/21 [==============================] - 0s 14ms/step - loss: 0.0010 - val_loss: 0.0089\n",
            "Epoch 160/1000\n",
            "21/21 [==============================] - 0s 14ms/step - loss: 0.0025 - val_loss: 0.0021\n",
            "Epoch 161/1000\n",
            "21/21 [==============================] - 0s 13ms/step - loss: 5.1330e-04 - val_loss: 0.0017\n",
            "Epoch 162/1000\n",
            "21/21 [==============================] - 0s 13ms/step - loss: 6.6935e-04 - val_loss: 0.0013\n",
            "Epoch 163/1000\n",
            "21/21 [==============================] - 0s 13ms/step - loss: 0.0015 - val_loss: 0.0029\n",
            "Epoch 164/1000\n",
            "21/21 [==============================] - 0s 14ms/step - loss: 0.0011 - val_loss: 0.0055\n",
            "Epoch 165/1000\n",
            "21/21 [==============================] - 0s 13ms/step - loss: 8.1426e-04 - val_loss: 0.0089\n",
            "Epoch 166/1000\n",
            "21/21 [==============================] - 0s 13ms/step - loss: 8.0929e-04 - val_loss: 0.0070\n",
            "Epoch 167/1000\n",
            "21/21 [==============================] - 0s 13ms/step - loss: 0.0013 - val_loss: 0.0045\n",
            "Epoch 168/1000\n",
            "21/21 [==============================] - 0s 13ms/step - loss: 0.0013 - val_loss: 0.0021\n",
            "Epoch 169/1000\n",
            "21/21 [==============================] - 0s 14ms/step - loss: 6.6993e-04 - val_loss: 0.0013\n",
            "Epoch 170/1000\n",
            "21/21 [==============================] - 0s 13ms/step - loss: 4.2903e-04 - val_loss: 0.0011\n",
            "Epoch 171/1000\n",
            "21/21 [==============================] - 0s 14ms/step - loss: 8.0787e-04 - val_loss: 0.0014\n",
            "Epoch 172/1000\n",
            "21/21 [==============================] - 0s 14ms/step - loss: 0.0010 - val_loss: 0.0033\n",
            "Epoch 173/1000\n",
            "21/21 [==============================] - 0s 13ms/step - loss: 6.9543e-04 - val_loss: 0.0058\n",
            "Epoch 174/1000\n",
            "21/21 [==============================] - 0s 13ms/step - loss: 4.5499e-04 - val_loss: 0.0058\n",
            "Epoch 175/1000\n",
            "21/21 [==============================] - 0s 13ms/step - loss: 7.6714e-04 - val_loss: 0.0047\n",
            "Epoch 176/1000\n",
            "21/21 [==============================] - 0s 14ms/step - loss: 9.8735e-04 - val_loss: 0.0030\n",
            "Epoch 177/1000\n",
            "21/21 [==============================] - 0s 13ms/step - loss: 8.0596e-04 - val_loss: 0.0016\n",
            "Epoch 178/1000\n",
            "21/21 [==============================] - 0s 13ms/step - loss: 4.2770e-04 - val_loss: 0.0012\n",
            "Epoch 179/1000\n",
            "21/21 [==============================] - 0s 13ms/step - loss: 3.7452e-04 - val_loss: 0.0010\n",
            "Epoch 180/1000\n",
            "21/21 [==============================] - 0s 14ms/step - loss: 6.5801e-04 - val_loss: 0.0012\n",
            "Epoch 181/1000\n",
            "21/21 [==============================] - 0s 13ms/step - loss: 8.1262e-04 - val_loss: 0.0024\n",
            "Epoch 182/1000\n",
            "21/21 [==============================] - 0s 13ms/step - loss: 6.0906e-04 - val_loss: 0.0044\n",
            "Epoch 183/1000\n",
            "21/21 [==============================] - 0s 13ms/step - loss: 3.9153e-04 - val_loss: 0.0050\n",
            "Epoch 184/1000\n",
            "21/21 [==============================] - 0s 13ms/step - loss: 6.2571e-04 - val_loss: 0.0048\n",
            "Epoch 185/1000\n",
            "21/21 [==============================] - 0s 13ms/step - loss: 9.9007e-04 - val_loss: 0.0035\n",
            "Epoch 186/1000\n",
            "21/21 [==============================] - 0s 13ms/step - loss: 0.0010 - val_loss: 0.0020\n",
            "Epoch 187/1000\n",
            "21/21 [==============================] - 0s 13ms/step - loss: 6.4816e-04 - val_loss: 0.0012\n",
            "Epoch 188/1000\n",
            "21/21 [==============================] - 0s 13ms/step - loss: 3.5446e-04 - val_loss: 9.7454e-04\n",
            "Epoch 189/1000\n",
            "21/21 [==============================] - 0s 13ms/step - loss: 5.5493e-04 - val_loss: 9.6228e-04\n",
            "Epoch 190/1000\n",
            "21/21 [==============================] - 0s 13ms/step - loss: 0.0010 - val_loss: 0.0014\n",
            "Epoch 191/1000\n",
            "21/21 [==============================] - 0s 13ms/step - loss: 0.0011 - val_loss: 0.0035\n",
            "Epoch 192/1000\n",
            "21/21 [==============================] - 0s 13ms/step - loss: 6.0769e-04 - val_loss: 0.0058\n",
            "Epoch 193/1000\n",
            "21/21 [==============================] - 0s 14ms/step - loss: 5.0452e-04 - val_loss: 0.0055\n",
            "Epoch 194/1000\n",
            "21/21 [==============================] - 0s 14ms/step - loss: 8.9569e-04 - val_loss: 0.0056\n",
            "Epoch 195/1000\n",
            "21/21 [==============================] - 0s 14ms/step - loss: 0.0014 - val_loss: 0.0026\n",
            "Epoch 196/1000\n",
            "21/21 [==============================] - 0s 14ms/step - loss: 8.5096e-04 - val_loss: 0.0020\n",
            "Epoch 197/1000\n",
            "21/21 [==============================] - 0s 14ms/step - loss: 7.1935e-04 - val_loss: 0.0012\n",
            "Epoch 198/1000\n",
            "21/21 [==============================] - 0s 14ms/step - loss: 4.8516e-04 - val_loss: 0.0011\n",
            "Epoch 199/1000\n",
            "21/21 [==============================] - 0s 14ms/step - loss: 7.8115e-04 - val_loss: 0.0012\n",
            "Epoch 200/1000\n",
            "21/21 [==============================] - 0s 14ms/step - loss: 0.0018 - val_loss: 0.0046\n",
            "Epoch 201/1000\n",
            "21/21 [==============================] - 0s 14ms/step - loss: 5.6802e-04 - val_loss: 0.0044\n",
            "Epoch 202/1000\n",
            "21/21 [==============================] - 0s 13ms/step - loss: 5.9772e-04 - val_loss: 0.0082\n",
            "Epoch 203/1000\n",
            "21/21 [==============================] - 0s 14ms/step - loss: 0.0011 - val_loss: 0.0040\n",
            "Epoch 204/1000\n",
            "21/21 [==============================] - 0s 14ms/step - loss: 9.0629e-04 - val_loss: 0.0057\n",
            "Epoch 205/1000\n",
            "21/21 [==============================] - 0s 13ms/step - loss: 0.0017 - val_loss: 0.0015\n",
            "Epoch 206/1000\n",
            "21/21 [==============================] - 0s 13ms/step - loss: 4.1823e-04 - val_loss: 0.0023\n",
            "Epoch 207/1000\n",
            "21/21 [==============================] - 0s 13ms/step - loss: 7.2035e-04 - val_loss: 0.0012\n",
            "Epoch 208/1000\n",
            "21/21 [==============================] - 0s 13ms/step - loss: 9.9384e-04 - val_loss: 0.0012\n",
            "Epoch 209/1000\n",
            "21/21 [==============================] - 0s 13ms/step - loss: 7.7038e-04 - val_loss: 0.0022\n",
            "Epoch 210/1000\n",
            "21/21 [==============================] - 0s 13ms/step - loss: 5.3750e-04 - val_loss: 0.0036\n",
            "Epoch 211/1000\n",
            "21/21 [==============================] - 0s 14ms/step - loss: 6.5723e-04 - val_loss: 0.0034\n",
            "Epoch 212/1000\n",
            "21/21 [==============================] - 0s 14ms/step - loss: 9.1039e-04 - val_loss: 0.0096\n",
            "Epoch 213/1000\n",
            "21/21 [==============================] - 0s 13ms/step - loss: 0.0026 - val_loss: 0.0020\n",
            "Epoch 214/1000\n",
            "21/21 [==============================] - 0s 13ms/step - loss: 0.0011 - val_loss: 0.0100\n",
            "Epoch 215/1000\n",
            "21/21 [==============================] - 0s 13ms/step - loss: 0.0026 - val_loss: 0.0014\n",
            "Epoch 216/1000\n",
            "21/21 [==============================] - 0s 14ms/step - loss: 9.7079e-04 - val_loss: 0.0033\n",
            "Epoch 217/1000\n",
            "21/21 [==============================] - 0s 13ms/step - loss: 8.6846e-04 - val_loss: 0.0022\n",
            "Epoch 218/1000\n",
            "21/21 [==============================] - 0s 13ms/step - loss: 0.0013 - val_loss: 0.0038\n",
            "Epoch 219/1000\n",
            "21/21 [==============================] - 0s 13ms/step - loss: 2.8387e-04 - val_loss: 0.0026\n",
            "Epoch 220/1000\n",
            "21/21 [==============================] - 0s 13ms/step - loss: 3.3814e-04 - val_loss: 0.0027\n",
            "Epoch 221/1000\n",
            "21/21 [==============================] - 0s 14ms/step - loss: 4.4927e-04 - val_loss: 0.0023\n",
            "Epoch 222/1000\n",
            "21/21 [==============================] - 0s 14ms/step - loss: 5.2269e-04 - val_loss: 0.0017\n",
            "Epoch 223/1000\n",
            "21/21 [==============================] - 0s 13ms/step - loss: 4.5346e-04 - val_loss: 0.0012\n",
            "Epoch 224/1000\n",
            "21/21 [==============================] - 0s 13ms/step - loss: 3.2917e-04 - val_loss: 0.0010\n",
            "Epoch 225/1000\n",
            "21/21 [==============================] - 0s 13ms/step - loss: 3.0357e-04 - val_loss: 9.4634e-04\n",
            "Epoch 226/1000\n",
            "21/21 [==============================] - 0s 14ms/step - loss: 4.2342e-04 - val_loss: 0.0010\n",
            "Epoch 227/1000\n",
            "21/21 [==============================] - 0s 13ms/step - loss: 5.1806e-04 - val_loss: 0.0014\n",
            "Epoch 228/1000\n",
            "21/21 [==============================] - 0s 13ms/step - loss: 4.5111e-04 - val_loss: 0.0021\n",
            "Epoch 229/1000\n",
            "21/21 [==============================] - 0s 13ms/step - loss: 3.1608e-04 - val_loss: 0.0026\n",
            "Epoch 230/1000\n",
            "21/21 [==============================] - 0s 13ms/step - loss: 3.6333e-04 - val_loss: 0.0029\n",
            "Epoch 231/1000\n",
            "21/21 [==============================] - 0s 13ms/step - loss: 6.1355e-04 - val_loss: 0.0028\n",
            "Epoch 232/1000\n",
            "21/21 [==============================] - 0s 14ms/step - loss: 8.2739e-04 - val_loss: 0.0020\n",
            "Epoch 233/1000\n",
            "21/21 [==============================] - 0s 14ms/step - loss: 7.5475e-04 - val_loss: 0.0012\n",
            "Epoch 234/1000\n",
            "21/21 [==============================] - 0s 13ms/step - loss: 4.7161e-04 - val_loss: 0.0011\n",
            "Epoch 235/1000\n",
            "21/21 [==============================] - 0s 14ms/step - loss: 4.3109e-04 - val_loss: 0.0011\n",
            "Epoch 236/1000\n",
            "21/21 [==============================] - 0s 13ms/step - loss: 8.0978e-04 - val_loss: 0.0011\n",
            "Epoch 237/1000\n",
            "21/21 [==============================] - 0s 15ms/step - loss: 9.9506e-04 - val_loss: 0.0021\n",
            "Epoch 238/1000\n",
            "21/21 [==============================] - 0s 14ms/step - loss: 7.2677e-04 - val_loss: 0.0037\n",
            "Epoch 239/1000\n",
            "21/21 [==============================] - 0s 14ms/step - loss: 3.7239e-04 - val_loss: 0.0041\n",
            "Epoch 240/1000\n",
            "21/21 [==============================] - 0s 14ms/step - loss: 6.9448e-04 - val_loss: 0.0040\n",
            "Epoch 241/1000\n",
            "21/21 [==============================] - 0s 14ms/step - loss: 0.0011 - val_loss: 0.0029\n",
            "Epoch 242/1000\n",
            "21/21 [==============================] - 0s 13ms/step - loss: 0.0011 - val_loss: 0.0015\n",
            "Epoch 243/1000\n",
            "21/21 [==============================] - 0s 13ms/step - loss: 6.1650e-04 - val_loss: 0.0012\n",
            "Epoch 244/1000\n",
            "21/21 [==============================] - 0s 14ms/step - loss: 4.3883e-04 - val_loss: 0.0011\n",
            "Epoch 245/1000\n",
            "21/21 [==============================] - 0s 13ms/step - loss: 8.1975e-04 - val_loss: 0.0014\n",
            "Epoch 246/1000\n",
            "21/21 [==============================] - 0s 13ms/step - loss: 8.6324e-04 - val_loss: 0.0025\n",
            "Epoch 247/1000\n",
            "21/21 [==============================] - 0s 14ms/step - loss: 5.5256e-04 - val_loss: 0.0038\n",
            "Epoch 248/1000\n",
            "21/21 [==============================] - 0s 13ms/step - loss: 3.8091e-04 - val_loss: 0.0034\n",
            "Epoch 249/1000\n",
            "21/21 [==============================] - 0s 13ms/step - loss: 7.6117e-04 - val_loss: 0.0034\n",
            "Epoch 250/1000\n",
            "21/21 [==============================] - 0s 13ms/step - loss: 0.0011 - val_loss: 0.0019\n",
            "Epoch 251/1000\n",
            "21/21 [==============================] - 0s 14ms/step - loss: 7.1799e-04 - val_loss: 0.0012\n",
            "Epoch 252/1000\n",
            "21/21 [==============================] - 0s 14ms/step - loss: 4.1988e-04 - val_loss: 0.0011\n",
            "Epoch 253/1000\n",
            "21/21 [==============================] - 0s 14ms/step - loss: 5.5600e-04 - val_loss: 0.0011\n",
            "Epoch 254/1000\n",
            "21/21 [==============================] - 0s 14ms/step - loss: 7.4294e-04 - val_loss: 0.0017\n",
            "Epoch 255/1000\n",
            "21/21 [==============================] - 0s 13ms/step - loss: 6.2991e-04 - val_loss: 0.0030\n",
            "Epoch 256/1000\n",
            "21/21 [==============================] - 0s 14ms/step - loss: 2.9291e-04 - val_loss: 0.0029\n",
            "Epoch 257/1000\n",
            "21/21 [==============================] - 0s 14ms/step - loss: 4.8893e-04 - val_loss: 0.0029\n",
            "Epoch 258/1000\n",
            "21/21 [==============================] - 0s 13ms/step - loss: 8.3480e-04 - val_loss: 0.0021\n",
            "Epoch 259/1000\n",
            "21/21 [==============================] - 0s 13ms/step - loss: 7.6709e-04 - val_loss: 0.0013\n",
            "Epoch 260/1000\n",
            "21/21 [==============================] - 0s 14ms/step - loss: 4.8809e-04 - val_loss: 0.0011\n",
            "Epoch 261/1000\n",
            "21/21 [==============================] - 0s 13ms/step - loss: 3.5602e-04 - val_loss: 9.9337e-04\n",
            "Epoch 262/1000\n",
            "21/21 [==============================] - 0s 13ms/step - loss: 6.3143e-04 - val_loss: 0.0012\n",
            "Epoch 263/1000\n",
            "21/21 [==============================] - 0s 14ms/step - loss: 7.2704e-04 - val_loss: 0.0021\n",
            "Epoch 264/1000\n",
            "21/21 [==============================] - 0s 13ms/step - loss: 4.1756e-04 - val_loss: 0.0028\n",
            "Epoch 265/1000\n",
            "21/21 [==============================] - 0s 14ms/step - loss: 3.1481e-04 - val_loss: 0.0027\n",
            "Epoch 266/1000\n",
            "21/21 [==============================] - 0s 13ms/step - loss: 6.0268e-04 - val_loss: 0.0027\n",
            "Epoch 267/1000\n",
            "21/21 [==============================] - 0s 13ms/step - loss: 8.9533e-04 - val_loss: 0.0017\n",
            "Epoch 268/1000\n",
            "21/21 [==============================] - 0s 14ms/step - loss: 6.6243e-04 - val_loss: 0.0012\n",
            "Epoch 269/1000\n",
            "21/21 [==============================] - 0s 13ms/step - loss: 4.0079e-04 - val_loss: 0.0010\n",
            "Epoch 270/1000\n",
            "21/21 [==============================] - 0s 13ms/step - loss: 4.6057e-04 - val_loss: 0.0010\n",
            "Epoch 271/1000\n",
            "21/21 [==============================] - 0s 14ms/step - loss: 7.2547e-04 - val_loss: 0.0014\n",
            "Epoch 272/1000\n",
            "21/21 [==============================] - 0s 14ms/step - loss: 7.7255e-04 - val_loss: 0.0026\n",
            "Epoch 273/1000\n",
            "21/21 [==============================] - 0s 14ms/step - loss: 3.2272e-04 - val_loss: 0.0028\n",
            "Epoch 274/1000\n",
            "21/21 [==============================] - 0s 13ms/step - loss: 3.7744e-04 - val_loss: 0.0030\n",
            "Epoch 275/1000\n",
            "21/21 [==============================] - 0s 14ms/step - loss: 7.8821e-04 - val_loss: 0.0024\n"
          ]
        }
      ],
      "source": [
        "# Train the model\n",
        "history = rnn_model.fit(X_train_seq, y_train_seq,\n",
        "               epochs=1000,\n",
        "               batch_size=32,\n",
        "                validation_data=(X_val, y_val),\n",
        "               callbacks=[EarlyStopping(monitor='val_loss', patience=50, restore_best_weights=True)],\n",
        "                shuffle =False)\n",
        "loss_values = history.history['loss']\n",
        "val_loss_values = history.history['val_loss']"
      ]
    },
    {
      "cell_type": "code",
      "execution_count": null,
      "metadata": {
        "colab": {
          "base_uri": "https://localhost:8080/",
          "height": 295
        },
        "id": "-MplLVTHhfuI",
        "outputId": "70f3768d-7f5a-4720-ffb9-736a67a6eef8"
      },
      "outputs": [
        {
          "output_type": "display_data",
          "data": {
            "text/plain": [
              "<Figure size 432x288 with 1 Axes>"
            ],
            "image/png": "[encoded data removed]"
          },
          "metadata": {
            "needs_background": "light"
          }
        }
      ],
      "source": [
        "plt.plot(loss_values, 'g', label='Training loss')\n",
        "plt.plot(val_loss_values, 'b', label='validation loss')\n",
        "plt.title('Training and Validation loss')\n",
        "plt.xlabel('Epochs')\n",
        "plt.ylabel('Loss')\n",
        "plt.legend()\n",
        "plt.show()"
      ]
    },
    {
      "cell_type": "code",
      "execution_count": null,
      "metadata": {
        "id": "yeQ4qTuZhfuI"
      },
      "outputs": [],
      "source": [
        "def unscale(data, min_value, max_value):\n",
        "    return data * (max_value - min_value) + min_value"
      ]
    },
    {
      "cell_type": "code",
      "execution_count": null,
      "metadata": {
        "colab": {
          "base_uri": "https://localhost:8080/"
        },
        "id": "YYTB9X4PhfuI",
        "outputId": "e4eb33df-9752-4de8-d645-c848a21821b1"
      },
      "outputs": [
        {
          "output_type": "stream",
          "name": "stdout",
          "text": [
            "6/6 [==============================] - 0s 4ms/step\n"
          ]
        }
      ],
      "source": [
        "predictions = rnn_model.predict(X_test_seq)"
      ]
    },
    {
      "cell_type": "code",
      "execution_count": null,
      "metadata": {
        "id": "ZqlAcVQphfuI"
      },
      "outputs": [],
      "source": [
        "# Get the minimum and maximum values from the original data\n",
        "min_value = df['Stock'].values.min()\n",
        "max_value = df['Stock'].values.max()\n",
        "\n",
        "unscaled_pred = unscale(predictions, min_value, max_value)\n",
        "y_test = unscale(y_test_seq, min_value, max_value)"
      ]
    },
    {
      "cell_type": "code",
      "execution_count": null,
      "metadata": {
        "colab": {
          "base_uri": "https://localhost:8080/",
          "height": 265
        },
        "id": "Ti-GHwNDhfuI",
        "outputId": "ac0a4882-803b-4eee-d4dd-5094a8962ee9"
      },
      "outputs": [
        {
          "output_type": "display_data",
          "data": {
            "text/plain": [
              "<Figure size 432x288 with 1 Axes>"
            ],
            "image/png": "[encoded data removed]"
          },
          "metadata": {
            "needs_background": "light"
          }
        }
      ],
      "source": [
        "# Plot the predicted versus actual stock price\n",
        "plt.plot(y_test, label=\"Actual Stock Price\")\n",
        "plt.plot(unscaled_pred, label=\"Predicted Stock Price\")\n",
        "plt.legend()\n",
        "plt.show()"
      ]
    },
    {
      "cell_type": "code",
      "execution_count": null,
      "metadata": {
        "colab": {
          "base_uri": "https://localhost:8080/"
        },
        "id": "9UXHFQQXhfuI",
        "outputId": "8e1fae56-f000-425b-a6bc-0b7656157e42"
      },
      "outputs": [
        {
          "output_type": "stream",
          "name": "stdout",
          "text": [
            "Mean Squared Error:  849.7\n",
            "R2 Score:  0.95\n",
            "Percentile:  0.037\n"
          ]
        }
      ],
      "source": [
        "# Metrics\n",
        "mse = mean_squared_error(y_test, unscaled_pred)\n",
        "r2 = r2_score(y_test, unscaled_pred)\n",
        "\n",
        "# calculate absolute percentage error\n",
        "ape = np.abs((y_test - unscaled_pred) / y_test)\n",
        "# calculate median absolute percentage error\n",
        "percentile = np.percentile(ape, 50)\n",
        "print(\"Mean Squared Error: \", np.round(mse,2))\n",
        "print(\"R2 Score: \", np.round(r2,2))\n",
        "print(\"Percentile: \",np.round(percentile,3) )"
      ]
    },
    {
      "cell_type": "markdown",
      "metadata": {
        "id": "YX2Ch3BAhfuJ"
      },
      "source": [
        "### Post (complete by Monday 13/02/23)\n",
        "\n",
        "Post your solution to Tasks 1-4 in notebook form. If you have not completed all the tasks then that is acceptable. The purpose is to get feedback from others in the group, so if you have only a basic outline then you may get ideas about how to proceed and also examples from others in your group.\n",
        "\n",
        "No posts should reference Task 5."
      ]
    },
    {
      "cell_type": "code",
      "execution_count": null,
      "metadata": {
        "id": "pnxmFKhwhfuJ"
      },
      "outputs": [],
      "source": []
    },
    {
      "cell_type": "markdown",
      "metadata": {
        "id": "l1GkKo_shfuJ"
      },
      "source": [
        "### Respond (complete by Wednesday 15/02/23)\n",
        "\n",
        "If you feel you can provide useful advise then respond to another member of the group through the appropriate forum. Responses should be respectful and offer some sort of advise. Try and avoid clogging the forums with support or thank you messages.\n",
        "\n",
        "In reviewing others code you will discover different ways to tackle the same problem. It is acceptable to copy parts of others code. However whole scale copying from another notebook is not acceptable."
      ]
    },
    {
      "cell_type": "markdown",
      "metadata": {
        "id": "4AbHunMkhfuJ"
      },
      "source": [
        "Grading guidelines for the forum posts: Weight [2/7]\n",
        "\n",
        "**Beginning [0-8]:** Respectful posts of minor value. Significant number of posts without valuable contributions and/or without well-considered questions. Posts about task 5 in contravention of instructions.\n",
        "\n",
        "**Developing [9-12]:** At least 1 post  exceeding Beginning level with respectful suggestion or thought provoking question. Most posts contain valuable contributions or well-considered questions.\n",
        "\n",
        "**Advancing [13-16]:** At least 2 posts: equal to or exceeding Beginning level;  with respectful and sound contribution highlighting mistakes or alternative approaches.\n",
        "\n",
        "**Accomplished [17-20]:** At least 3 posts: equal to or exceeding Accomplished level; with respectful contribution of significant value. "
      ]
    },
    {
      "cell_type": "markdown",
      "metadata": {
        "id": "pzfzsthshfuJ"
      },
      "source": [
        "<a id='part2'></a>\n",
        "## Sentiment Analysis\n",
        "\n",
        "\n",
        "This task is a individual task and should **not** to be uploaded to GitHub. No direct support should be given via the forums, although comments about progress or results are allowed. Marks will be deducted if the instructions are not followed (see rubrics). This part should be uploaded directly to Sulis.\n",
        "\n",
        "### Context\n",
        "\n",
        "You have a model that predicts the sentiment of a film review (positive or negative) from the IMDB. There are two hyperparameters that format the data from IMDB: the maximum review length and the dictionary size. Below is a RNN model that predicts sentiment values. \n",
        "\n",
        "\n",
        "### Task 5:  (completed by Sunday 19/02/23)\n",
        "\n",
        "Keeping top_words, max_review_lenngth and the embedding_vector_length the same, change the model so that it uses attention only, i.e. there are no recurrent components. The only Keras layers (defined here https://www.tensorflow.org/api_docs/python/tf/keras/layers) that you allowed to use are:\n",
        "- Input,\n",
        "- Embedding, \n",
        "- Dense, \n",
        "- Any Attention (must be at leat one),\n",
        "- TimeDistributed,\n",
        "- Any Merging,\n",
        "- Any Reshaping,\n",
        "- Any Pooling,\n",
        "- Dropout. \n",
        "\n",
        "You need not use any of the layers (except attention) but you can use some more than once. Can you do at least as good as the RNN example?\n",
        "\n",
        "**NB** There are many examples of using attention for sentiment analysis but we looking to see if you can construct a sensible model. The model will be delibrately restricted, so do not waste too much time achieving spectacular accuracy. Remember the rules of thumb that we discussed in the Introduction to DL module.\n"
      ]
    },
    {
      "cell_type": "code",
      "execution_count": null,
      "metadata": {
        "colab": {
          "base_uri": "https://localhost:8080/"
        },
        "id": "bF5C6hdrhfuJ",
        "outputId": "7dc71236-be90-4458-a7e6-17c08153da71"
      },
      "outputs": [
        {
          "output_type": "stream",
          "name": "stdout",
          "text": [
            "Downloading data from https://storage.googleapis.com/tensorflow/tf-keras-datasets/imdb.npz\n",
            "17464789/17464789 [==============================] - 2s 0us/step\n",
            "(25000, 500)\n"
          ]
        }
      ],
      "source": [
        "from tensorflow.keras.datasets import imdb\n",
        "from tensorflow.keras import Sequential\n",
        "from tensorflow.keras.layers import Dense, LSTM, Embedding, Dropout\n",
        "from tensorflow.keras.preprocessing import sequence\n",
        "from tensorflow.keras.utils import plot_model\n",
        "\n",
        "import matplotlib.pyplot as plt\n",
        "import numpy as np\n",
        "\n",
        "top_words = 100\n",
        "(Rev_train, Sc_train), (Rev_test, Sc_test) = imdb.load_data(num_words=top_words)\n",
        "\n",
        "max_review_length = 500\n",
        "X_train = sequence.pad_sequences(Rev_train, maxlen=max_review_length)\n",
        "X_test = sequence.pad_sequences(Rev_test, maxlen=max_review_length)\n",
        "print(X_train.shape)"
      ]
    },
    {
      "cell_type": "code",
      "execution_count": null,
      "metadata": {
        "colab": {
          "base_uri": "https://localhost:8080/",
          "height": 1000
        },
        "id": "jULDa9P6PY4I",
        "outputId": "05c01eb0-d1a3-4f98-d9dd-1491a32f28c7"
      },
      "outputs": [
        {
          "output_type": "stream",
          "name": "stdout",
          "text": [
            "Model: \"model\"\n",
            "__________________________________________________________________________________________________\n",
            " Layer (type)                   Output Shape         Param #     Connected to                     \n",
            "==================================================================================================\n",
            " input_2 (InputLayer)           [(None, 500)]        0           []                               \n",
            "                                                                                                  \n",
            " embedding (Embedding)          (None, 500, 16)      1600        ['input_2[0][0]']                \n",
            "                                                                                                  \n",
            " dropout (Dropout)              (None, 500, 16)      0           ['embedding[0][0]']              \n",
            "                                                                                                  \n",
            " lstm (LSTM)                    (None, 500, 10)      1080        ['dropout[0][0]']                \n",
            "                                                                                                  \n",
            " dropout_1 (Dropout)            (None, 500, 10)      0           ['lstm[0][0]']                   \n",
            "                                                                                                  \n",
            " time_distributed (TimeDistribu  (None, 500, 1)      11          ['dropout_1[0][0]']              \n",
            " ted)                                                                                             \n",
            "                                                                                                  \n",
            " reshape (Reshape)              (None, 500)          0           ['time_distributed[0][0]']       \n",
            "                                                                                                  \n",
            " lambda (Lambda)                (None, 500)          0           ['reshape[0][0]']                \n",
            "                                                                                                  \n",
            " repeat_vector (RepeatVector)   (None, 10, 500)      0           ['lambda[0][0]']                 \n",
            "                                                                                                  \n",
            " permute (Permute)              (None, 500, 10)      0           ['repeat_vector[0][0]']          \n",
            "                                                                                                  \n",
            " multiply (Multiply)            (None, 500, 10)      0           ['dropout_1[0][0]',              \n",
            "                                                                  'permute[0][0]']                \n",
            "                                                                                                  \n",
            " lambda_1 (Lambda)              (None, 10)           0           ['multiply[0][0]']               \n",
            "                                                                                                  \n",
            " dense_2 (Dense)                (None, 1)            11          ['lambda_1[0][0]']               \n",
            "                                                                                                  \n",
            "==================================================================================================\n",
            "Total params: 2,702\n",
            "Trainable params: 2,702\n",
            "Non-trainable params: 0\n",
            "__________________________________________________________________________________________________\n",
            "None\n"
          ]
        },
        {
          "output_type": "execute_result",
          "data": {
            "image/png": "[encoded data removed]",
            "text/plain": [
              "<IPython.core.display.Image object>"
            ]
          },
          "metadata": {},
          "execution_count": 34
        }
      ],
      "source": [
        "from keras.layers import Input, Embedding, Dense, Dropout, LSTM, TimeDistributed, Reshape, Lambda, RepeatVector, Permute, multiply\n",
        "from keras.models import Model\n",
        "from keras.activations import softmax\n",
        "from keras import backend as K\n",
        "\n",
        "\n",
        "\n",
        "# Define the model architecture\n",
        "#The following is the original code converted to Keras api\n",
        "embedding_vector_length = 16\n",
        "inputs = Input(shape=(max_review_length,))\n",
        "embeddings = Embedding(top_words, embedding_vector_length, input_length=max_review_length)(inputs)\n",
        "dropout_emb = Dropout(0.2)(embeddings)\n",
        "lstm = LSTM(10, return_sequences=True)(dropout_emb)\n",
        "dropout_lstm = Dropout(0.2)(lstm)\n",
        "\n",
        "#The additional attention layer\n",
        "#calculate the attention weights for each timestep\n",
        "attention = TimeDistributed(Dense(1))(dropout_lstm)\n",
        "attention = Reshape((max_review_length,))(attention)\n",
        "\n",
        "# Calculate Probability distribution\n",
        "attention = Lambda(lambda x: softmax(x))(attention)\n",
        "# repeat the attention vector across each timestep\n",
        "attention = RepeatVector(10)(attention)\n",
        "attention = Permute([2, 1])(attention)\n",
        "\n",
        "#sum the weighted LSTM outputs along the timesteps axis\n",
        "sent_representation = multiply([dropout_lstm, attention])\n",
        "sent_representation = Lambda(lambda xin: K.sum(xin, axis=-2))(sent_representation)\n",
        "\n",
        "#Return a single value 0-1\n",
        "output = Dense(1, activation='sigmoid')(sent_representation)\n",
        "model = Model(inputs=inputs, outputs=output)\n",
        "\n",
        "# Compile the model\n",
        "model.compile(loss='binary_crossentropy', optimizer='adam', metrics=['accuracy'])\n",
        "print(model.summary())\n",
        "plot_model(model, show_shapes=True)"
      ]
    },
    {
      "cell_type": "markdown",
      "metadata": {
        "id": "c0pq8NY0hfuJ"
      },
      "source": [
        "\n",
        "The history for the model above has been saved, as it takes a while to run. If you want to run it yourself then comment out the second line.\n"
      ]
    },
    {
      "cell_type": "code",
      "execution_count": null,
      "metadata": {
        "colab": {
          "base_uri": "https://localhost:8080/"
        },
        "id": "BhkcCD3RhfuK",
        "outputId": "808d638d-7c67-44da-f2c7-8d8131a3e7e8"
      },
      "outputs": [
        {
          "output_type": "stream",
          "name": "stdout",
          "text": [
            "Epoch 1/150\n",
            "98/98 [==============================] - 8s 35ms/step - loss: 0.6903 - accuracy: 0.5263 - val_loss: 0.6789 - val_accuracy: 0.5815\n",
            "Epoch 2/150\n",
            "98/98 [==============================] - 3s 29ms/step - loss: 0.6680 - accuracy: 0.5977 - val_loss: 0.6584 - val_accuracy: 0.6368\n",
            "Epoch 3/150\n",
            "98/98 [==============================] - 3s 29ms/step - loss: 0.6407 - accuracy: 0.6473 - val_loss: 0.6320 - val_accuracy: 0.6624\n",
            "Epoch 4/150\n",
            "98/98 [==============================] - 3s 29ms/step - loss: 0.6140 - accuracy: 0.6720 - val_loss: 0.6018 - val_accuracy: 0.6785\n",
            "Epoch 5/150\n",
            "98/98 [==============================] - 3s 30ms/step - loss: 0.5845 - accuracy: 0.6915 - val_loss: 0.5761 - val_accuracy: 0.7045\n",
            "Epoch 6/150\n",
            "98/98 [==============================] - 3s 31ms/step - loss: 0.5687 - accuracy: 0.7055 - val_loss: 0.5618 - val_accuracy: 0.7101\n",
            "Epoch 7/150\n",
            "98/98 [==============================] - 3s 31ms/step - loss: 0.5598 - accuracy: 0.7130 - val_loss: 0.5561 - val_accuracy: 0.7154\n",
            "Epoch 8/150\n",
            "98/98 [==============================] - 3s 30ms/step - loss: 0.5527 - accuracy: 0.7190 - val_loss: 0.5517 - val_accuracy: 0.7194\n",
            "Epoch 9/150\n",
            "98/98 [==============================] - 3s 29ms/step - loss: 0.5499 - accuracy: 0.7171 - val_loss: 0.5454 - val_accuracy: 0.7234\n",
            "Epoch 10/150\n",
            "98/98 [==============================] - 3s 29ms/step - loss: 0.5425 - accuracy: 0.7238 - val_loss: 0.5417 - val_accuracy: 0.7266\n",
            "Epoch 11/150\n",
            "98/98 [==============================] - 3s 29ms/step - loss: 0.5408 - accuracy: 0.7245 - val_loss: 0.5382 - val_accuracy: 0.7278\n",
            "Epoch 12/150\n",
            "98/98 [==============================] - 3s 29ms/step - loss: 0.5368 - accuracy: 0.7291 - val_loss: 0.5355 - val_accuracy: 0.7293\n",
            "Epoch 13/150\n",
            "98/98 [==============================] - 3s 29ms/step - loss: 0.5358 - accuracy: 0.7289 - val_loss: 0.5334 - val_accuracy: 0.7307\n",
            "Epoch 14/150\n",
            "98/98 [==============================] - 3s 29ms/step - loss: 0.5348 - accuracy: 0.7298 - val_loss: 0.5321 - val_accuracy: 0.7310\n",
            "Epoch 15/150\n",
            "98/98 [==============================] - 3s 29ms/step - loss: 0.5327 - accuracy: 0.7309 - val_loss: 0.5321 - val_accuracy: 0.7327\n",
            "Epoch 16/150\n",
            "98/98 [==============================] - 3s 29ms/step - loss: 0.5303 - accuracy: 0.7315 - val_loss: 0.5296 - val_accuracy: 0.7335\n",
            "Epoch 17/150\n",
            "98/98 [==============================] - 3s 29ms/step - loss: 0.5297 - accuracy: 0.7312 - val_loss: 0.5286 - val_accuracy: 0.7352\n",
            "Epoch 18/150\n",
            "98/98 [==============================] - 3s 29ms/step - loss: 0.5299 - accuracy: 0.7314 - val_loss: 0.5280 - val_accuracy: 0.7356\n",
            "Epoch 19/150\n",
            "98/98 [==============================] - 3s 29ms/step - loss: 0.5281 - accuracy: 0.7319 - val_loss: 0.5273 - val_accuracy: 0.7345\n",
            "Epoch 20/150\n",
            "98/98 [==============================] - 3s 29ms/step - loss: 0.5282 - accuracy: 0.7315 - val_loss: 0.5280 - val_accuracy: 0.7348\n",
            "Epoch 21/150\n",
            "98/98 [==============================] - 3s 29ms/step - loss: 0.5261 - accuracy: 0.7342 - val_loss: 0.5263 - val_accuracy: 0.7336\n",
            "Epoch 22/150\n",
            "98/98 [==============================] - 3s 29ms/step - loss: 0.5239 - accuracy: 0.7342 - val_loss: 0.5236 - val_accuracy: 0.7366\n",
            "Epoch 23/150\n",
            "98/98 [==============================] - 3s 29ms/step - loss: 0.5234 - accuracy: 0.7365 - val_loss: 0.5221 - val_accuracy: 0.7389\n",
            "Epoch 24/150\n",
            "98/98 [==============================] - 3s 29ms/step - loss: 0.5229 - accuracy: 0.7380 - val_loss: 0.5222 - val_accuracy: 0.7388\n",
            "Epoch 25/150\n",
            "98/98 [==============================] - 3s 29ms/step - loss: 0.5243 - accuracy: 0.7360 - val_loss: 0.5209 - val_accuracy: 0.7406\n",
            "Epoch 26/150\n",
            "98/98 [==============================] - 3s 29ms/step - loss: 0.5219 - accuracy: 0.7378 - val_loss: 0.5210 - val_accuracy: 0.7416\n",
            "Epoch 27/150\n",
            "98/98 [==============================] - 3s 29ms/step - loss: 0.5201 - accuracy: 0.7382 - val_loss: 0.5210 - val_accuracy: 0.7378\n",
            "Epoch 28/150\n",
            "98/98 [==============================] - 3s 29ms/step - loss: 0.5204 - accuracy: 0.7394 - val_loss: 0.5237 - val_accuracy: 0.7371\n",
            "Epoch 29/150\n",
            "98/98 [==============================] - 3s 29ms/step - loss: 0.5185 - accuracy: 0.7404 - val_loss: 0.5190 - val_accuracy: 0.7406\n",
            "Epoch 30/150\n",
            "98/98 [==============================] - 3s 29ms/step - loss: 0.5178 - accuracy: 0.7393 - val_loss: 0.5175 - val_accuracy: 0.7424\n",
            "Epoch 31/150\n",
            "98/98 [==============================] - 3s 29ms/step - loss: 0.5173 - accuracy: 0.7408 - val_loss: 0.5166 - val_accuracy: 0.7436\n",
            "Epoch 32/150\n",
            "98/98 [==============================] - 3s 29ms/step - loss: 0.5163 - accuracy: 0.7408 - val_loss: 0.5163 - val_accuracy: 0.7416\n",
            "Epoch 33/150\n",
            "98/98 [==============================] - 3s 29ms/step - loss: 0.5154 - accuracy: 0.7430 - val_loss: 0.5154 - val_accuracy: 0.7430\n",
            "Epoch 34/150\n",
            "98/98 [==============================] - 3s 29ms/step - loss: 0.5185 - accuracy: 0.7404 - val_loss: 0.5170 - val_accuracy: 0.7441\n",
            "Epoch 35/150\n",
            "98/98 [==============================] - 3s 30ms/step - loss: 0.5141 - accuracy: 0.7422 - val_loss: 0.5146 - val_accuracy: 0.7442\n",
            "Epoch 36/150\n",
            "98/98 [==============================] - 3s 31ms/step - loss: 0.5125 - accuracy: 0.7446 - val_loss: 0.5143 - val_accuracy: 0.7471\n",
            "Epoch 37/150\n",
            "98/98 [==============================] - 3s 29ms/step - loss: 0.5123 - accuracy: 0.7448 - val_loss: 0.5138 - val_accuracy: 0.7460\n",
            "Epoch 38/150\n",
            "98/98 [==============================] - 3s 29ms/step - loss: 0.5112 - accuracy: 0.7454 - val_loss: 0.5146 - val_accuracy: 0.7410\n",
            "Epoch 39/150\n",
            "98/98 [==============================] - 3s 29ms/step - loss: 0.5108 - accuracy: 0.7456 - val_loss: 0.5122 - val_accuracy: 0.7467\n",
            "Epoch 40/150\n",
            "98/98 [==============================] - 3s 30ms/step - loss: 0.5093 - accuracy: 0.7481 - val_loss: 0.5125 - val_accuracy: 0.7440\n",
            "Epoch 41/150\n",
            "98/98 [==============================] - 3s 29ms/step - loss: 0.5105 - accuracy: 0.7442 - val_loss: 0.5124 - val_accuracy: 0.7441\n",
            "Epoch 42/150\n",
            "98/98 [==============================] - 3s 29ms/step - loss: 0.5091 - accuracy: 0.7471 - val_loss: 0.5125 - val_accuracy: 0.7464\n",
            "Epoch 43/150\n",
            "98/98 [==============================] - 3s 29ms/step - loss: 0.5073 - accuracy: 0.7474 - val_loss: 0.5122 - val_accuracy: 0.7441\n",
            "Epoch 44/150\n",
            "98/98 [==============================] - 3s 29ms/step - loss: 0.5088 - accuracy: 0.7482 - val_loss: 0.5100 - val_accuracy: 0.7458\n",
            "Epoch 45/150\n",
            "98/98 [==============================] - 3s 29ms/step - loss: 0.5068 - accuracy: 0.7474 - val_loss: 0.5092 - val_accuracy: 0.7474\n",
            "Epoch 46/150\n",
            "98/98 [==============================] - 3s 29ms/step - loss: 0.5088 - accuracy: 0.7474 - val_loss: 0.5083 - val_accuracy: 0.7484\n",
            "Epoch 47/150\n",
            "98/98 [==============================] - 3s 29ms/step - loss: 0.5074 - accuracy: 0.7470 - val_loss: 0.5083 - val_accuracy: 0.7478\n",
            "Epoch 48/150\n",
            "98/98 [==============================] - 3s 29ms/step - loss: 0.5050 - accuracy: 0.7502 - val_loss: 0.5076 - val_accuracy: 0.7482\n",
            "Epoch 49/150\n",
            "98/98 [==============================] - 3s 29ms/step - loss: 0.5073 - accuracy: 0.7506 - val_loss: 0.5093 - val_accuracy: 0.7471\n",
            "Epoch 50/150\n",
            "98/98 [==============================] - 3s 29ms/step - loss: 0.5035 - accuracy: 0.7514 - val_loss: 0.5064 - val_accuracy: 0.7493\n",
            "Epoch 51/150\n",
            "98/98 [==============================] - 3s 29ms/step - loss: 0.5035 - accuracy: 0.7510 - val_loss: 0.5097 - val_accuracy: 0.7449\n",
            "Epoch 52/150\n",
            "98/98 [==============================] - 3s 29ms/step - loss: 0.5043 - accuracy: 0.7520 - val_loss: 0.5070 - val_accuracy: 0.7480\n",
            "Epoch 53/150\n",
            "98/98 [==============================] - 3s 29ms/step - loss: 0.5033 - accuracy: 0.7536 - val_loss: 0.5070 - val_accuracy: 0.7476\n",
            "Epoch 54/150\n",
            "98/98 [==============================] - 3s 29ms/step - loss: 0.5017 - accuracy: 0.7526 - val_loss: 0.5049 - val_accuracy: 0.7503\n",
            "Epoch 55/150\n",
            "98/98 [==============================] - 3s 29ms/step - loss: 0.5016 - accuracy: 0.7522 - val_loss: 0.5064 - val_accuracy: 0.7492\n",
            "Epoch 56/150\n",
            "98/98 [==============================] - 3s 29ms/step - loss: 0.5019 - accuracy: 0.7541 - val_loss: 0.5046 - val_accuracy: 0.7502\n",
            "Epoch 57/150\n",
            "98/98 [==============================] - 3s 29ms/step - loss: 0.5030 - accuracy: 0.7521 - val_loss: 0.5050 - val_accuracy: 0.7487\n",
            "Epoch 58/150\n",
            "98/98 [==============================] - 3s 29ms/step - loss: 0.5001 - accuracy: 0.7533 - val_loss: 0.5036 - val_accuracy: 0.7518\n",
            "Epoch 59/150\n",
            "98/98 [==============================] - 3s 29ms/step - loss: 0.4997 - accuracy: 0.7550 - val_loss: 0.5030 - val_accuracy: 0.7512\n",
            "Epoch 60/150\n",
            "98/98 [==============================] - 3s 29ms/step - loss: 0.4988 - accuracy: 0.7557 - val_loss: 0.5037 - val_accuracy: 0.7500\n",
            "Epoch 61/150\n",
            "98/98 [==============================] - 3s 29ms/step - loss: 0.4997 - accuracy: 0.7539 - val_loss: 0.5028 - val_accuracy: 0.7496\n",
            "Epoch 62/150\n",
            "98/98 [==============================] - 3s 29ms/step - loss: 0.4982 - accuracy: 0.7570 - val_loss: 0.5015 - val_accuracy: 0.7523\n",
            "Epoch 63/150\n",
            "98/98 [==============================] - 3s 29ms/step - loss: 0.4994 - accuracy: 0.7548 - val_loss: 0.5013 - val_accuracy: 0.7526\n",
            "Epoch 64/150\n",
            "98/98 [==============================] - 3s 29ms/step - loss: 0.4962 - accuracy: 0.7557 - val_loss: 0.5015 - val_accuracy: 0.7522\n",
            "Epoch 65/150\n",
            "98/98 [==============================] - 3s 29ms/step - loss: 0.4951 - accuracy: 0.7557 - val_loss: 0.5045 - val_accuracy: 0.7513\n",
            "Epoch 66/150\n",
            "98/98 [==============================] - 3s 29ms/step - loss: 0.4965 - accuracy: 0.7562 - val_loss: 0.5016 - val_accuracy: 0.7522\n",
            "Epoch 67/150\n",
            "98/98 [==============================] - 3s 29ms/step - loss: 0.4962 - accuracy: 0.7568 - val_loss: 0.4999 - val_accuracy: 0.7520\n",
            "Epoch 68/150\n",
            "98/98 [==============================] - 3s 29ms/step - loss: 0.4955 - accuracy: 0.7558 - val_loss: 0.5005 - val_accuracy: 0.7541\n",
            "Epoch 69/150\n",
            "98/98 [==============================] - 3s 29ms/step - loss: 0.4956 - accuracy: 0.7573 - val_loss: 0.5041 - val_accuracy: 0.7490\n",
            "Epoch 70/150\n",
            "98/98 [==============================] - 3s 29ms/step - loss: 0.4951 - accuracy: 0.7583 - val_loss: 0.5015 - val_accuracy: 0.7525\n",
            "Epoch 71/150\n",
            "98/98 [==============================] - 3s 29ms/step - loss: 0.4952 - accuracy: 0.7581 - val_loss: 0.5018 - val_accuracy: 0.7524\n",
            "Epoch 72/150\n",
            "98/98 [==============================] - 3s 29ms/step - loss: 0.4945 - accuracy: 0.7562 - val_loss: 0.4993 - val_accuracy: 0.7532\n",
            "Epoch 73/150\n",
            "98/98 [==============================] - 3s 29ms/step - loss: 0.4942 - accuracy: 0.7573 - val_loss: 0.4991 - val_accuracy: 0.7548\n",
            "Epoch 74/150\n",
            "98/98 [==============================] - 3s 28ms/step - loss: 0.4922 - accuracy: 0.7598 - val_loss: 0.4980 - val_accuracy: 0.7563\n",
            "Epoch 75/150\n",
            "98/98 [==============================] - 3s 28ms/step - loss: 0.4942 - accuracy: 0.7584 - val_loss: 0.4973 - val_accuracy: 0.7547\n",
            "Epoch 76/150\n",
            "98/98 [==============================] - 3s 28ms/step - loss: 0.4929 - accuracy: 0.7594 - val_loss: 0.4976 - val_accuracy: 0.7547\n",
            "Epoch 77/150\n",
            "98/98 [==============================] - 3s 28ms/step - loss: 0.4914 - accuracy: 0.7609 - val_loss: 0.4971 - val_accuracy: 0.7559\n",
            "Epoch 78/150\n",
            "98/98 [==============================] - 3s 28ms/step - loss: 0.4915 - accuracy: 0.7589 - val_loss: 0.4969 - val_accuracy: 0.7560\n",
            "Epoch 79/150\n",
            "98/98 [==============================] - 3s 28ms/step - loss: 0.4916 - accuracy: 0.7586 - val_loss: 0.4967 - val_accuracy: 0.7550\n",
            "Epoch 80/150\n",
            "98/98 [==============================] - 3s 28ms/step - loss: 0.4909 - accuracy: 0.7607 - val_loss: 0.5059 - val_accuracy: 0.7493\n",
            "Epoch 81/150\n",
            "98/98 [==============================] - 3s 29ms/step - loss: 0.4902 - accuracy: 0.7629 - val_loss: 0.4969 - val_accuracy: 0.7544\n",
            "Epoch 82/150\n",
            "98/98 [==============================] - 3s 28ms/step - loss: 0.4902 - accuracy: 0.7609 - val_loss: 0.4956 - val_accuracy: 0.7560\n",
            "Epoch 83/150\n",
            "98/98 [==============================] - 3s 28ms/step - loss: 0.4897 - accuracy: 0.7594 - val_loss: 0.4993 - val_accuracy: 0.7549\n",
            "Epoch 84/150\n",
            "98/98 [==============================] - 3s 29ms/step - loss: 0.4903 - accuracy: 0.7598 - val_loss: 0.4949 - val_accuracy: 0.7564\n",
            "Epoch 85/150\n",
            "98/98 [==============================] - 3s 29ms/step - loss: 0.4902 - accuracy: 0.7604 - val_loss: 0.4952 - val_accuracy: 0.7562\n",
            "Epoch 86/150\n",
            "98/98 [==============================] - 3s 29ms/step - loss: 0.4890 - accuracy: 0.7626 - val_loss: 0.4991 - val_accuracy: 0.7550\n",
            "Epoch 87/150\n",
            "98/98 [==============================] - 3s 29ms/step - loss: 0.4880 - accuracy: 0.7621 - val_loss: 0.4977 - val_accuracy: 0.7545\n",
            "Epoch 88/150\n",
            "98/98 [==============================] - 3s 29ms/step - loss: 0.4876 - accuracy: 0.7612 - val_loss: 0.4975 - val_accuracy: 0.7546\n",
            "Epoch 89/150\n",
            "98/98 [==============================] - 3s 30ms/step - loss: 0.4872 - accuracy: 0.7627 - val_loss: 0.4942 - val_accuracy: 0.7580\n",
            "Epoch 90/150\n",
            "98/98 [==============================] - 3s 29ms/step - loss: 0.4879 - accuracy: 0.7610 - val_loss: 0.4941 - val_accuracy: 0.7588\n",
            "Epoch 91/150\n",
            "98/98 [==============================] - 3s 29ms/step - loss: 0.4867 - accuracy: 0.7617 - val_loss: 0.4923 - val_accuracy: 0.7575\n",
            "Epoch 92/150\n",
            "98/98 [==============================] - 3s 29ms/step - loss: 0.4864 - accuracy: 0.7614 - val_loss: 0.4956 - val_accuracy: 0.7562\n",
            "Epoch 93/150\n",
            "98/98 [==============================] - 3s 29ms/step - loss: 0.4873 - accuracy: 0.7630 - val_loss: 0.4930 - val_accuracy: 0.7575\n",
            "Epoch 94/150\n",
            "98/98 [==============================] - 3s 29ms/step - loss: 0.4877 - accuracy: 0.7630 - val_loss: 0.4994 - val_accuracy: 0.7538\n",
            "Epoch 95/150\n",
            "98/98 [==============================] - 3s 29ms/step - loss: 0.4849 - accuracy: 0.7647 - val_loss: 0.4935 - val_accuracy: 0.7587\n",
            "Epoch 96/150\n",
            "98/98 [==============================] - 3s 29ms/step - loss: 0.4852 - accuracy: 0.7647 - val_loss: 0.4913 - val_accuracy: 0.7587\n",
            "Epoch 97/150\n",
            "98/98 [==============================] - 3s 30ms/step - loss: 0.4873 - accuracy: 0.7621 - val_loss: 0.4913 - val_accuracy: 0.7598\n",
            "Epoch 98/150\n",
            "98/98 [==============================] - 3s 30ms/step - loss: 0.4844 - accuracy: 0.7662 - val_loss: 0.4903 - val_accuracy: 0.7596\n",
            "Epoch 99/150\n",
            "98/98 [==============================] - 3s 29ms/step - loss: 0.4841 - accuracy: 0.7652 - val_loss: 0.4918 - val_accuracy: 0.7584\n",
            "Epoch 100/150\n",
            "98/98 [==============================] - 3s 29ms/step - loss: 0.4840 - accuracy: 0.7649 - val_loss: 0.4945 - val_accuracy: 0.7586\n",
            "Epoch 101/150\n",
            "98/98 [==============================] - 3s 30ms/step - loss: 0.4848 - accuracy: 0.7645 - val_loss: 0.4927 - val_accuracy: 0.7596\n",
            "Epoch 102/150\n",
            "98/98 [==============================] - 3s 29ms/step - loss: 0.4830 - accuracy: 0.7655 - val_loss: 0.4955 - val_accuracy: 0.7581\n",
            "Epoch 103/150\n",
            "98/98 [==============================] - 3s 29ms/step - loss: 0.4829 - accuracy: 0.7638 - val_loss: 0.4898 - val_accuracy: 0.7615\n",
            "Epoch 104/150\n",
            "98/98 [==============================] - 3s 29ms/step - loss: 0.4831 - accuracy: 0.7650 - val_loss: 0.4933 - val_accuracy: 0.7580\n",
            "Epoch 105/150\n",
            "98/98 [==============================] - 3s 29ms/step - loss: 0.4813 - accuracy: 0.7675 - val_loss: 0.4900 - val_accuracy: 0.7607\n",
            "Epoch 106/150\n",
            "98/98 [==============================] - 3s 29ms/step - loss: 0.4794 - accuracy: 0.7672 - val_loss: 0.4886 - val_accuracy: 0.7616\n",
            "Epoch 107/150\n",
            "98/98 [==============================] - 3s 29ms/step - loss: 0.4824 - accuracy: 0.7658 - val_loss: 0.4925 - val_accuracy: 0.7613\n",
            "Epoch 108/150\n",
            "98/98 [==============================] - 3s 29ms/step - loss: 0.4786 - accuracy: 0.7680 - val_loss: 0.4885 - val_accuracy: 0.7623\n",
            "Epoch 109/150\n",
            "98/98 [==============================] - 3s 30ms/step - loss: 0.4810 - accuracy: 0.7650 - val_loss: 0.4931 - val_accuracy: 0.7606\n",
            "Epoch 110/150\n",
            "98/98 [==============================] - 3s 29ms/step - loss: 0.4803 - accuracy: 0.7675 - val_loss: 0.4902 - val_accuracy: 0.7612\n",
            "Epoch 111/150\n",
            "98/98 [==============================] - 3s 29ms/step - loss: 0.4801 - accuracy: 0.7688 - val_loss: 0.4879 - val_accuracy: 0.7623\n",
            "Epoch 112/150\n",
            "98/98 [==============================] - 3s 29ms/step - loss: 0.4787 - accuracy: 0.7661 - val_loss: 0.4868 - val_accuracy: 0.7627\n",
            "Epoch 113/150\n",
            "98/98 [==============================] - 3s 29ms/step - loss: 0.4790 - accuracy: 0.7673 - val_loss: 0.4886 - val_accuracy: 0.7623\n",
            "Epoch 114/150\n",
            "98/98 [==============================] - 3s 29ms/step - loss: 0.4798 - accuracy: 0.7658 - val_loss: 0.4871 - val_accuracy: 0.7628\n",
            "Epoch 115/150\n",
            "98/98 [==============================] - 3s 29ms/step - loss: 0.4787 - accuracy: 0.7694 - val_loss: 0.4881 - val_accuracy: 0.7617\n",
            "Epoch 116/150\n",
            "98/98 [==============================] - 3s 29ms/step - loss: 0.4789 - accuracy: 0.7676 - val_loss: 0.4876 - val_accuracy: 0.7632\n",
            "Epoch 117/150\n",
            "98/98 [==============================] - 3s 29ms/step - loss: 0.4796 - accuracy: 0.7689 - val_loss: 0.4869 - val_accuracy: 0.7642\n",
            "Epoch 118/150\n",
            "98/98 [==============================] - 3s 29ms/step - loss: 0.4791 - accuracy: 0.7674 - val_loss: 0.4904 - val_accuracy: 0.7613\n",
            "Epoch 119/150\n",
            "98/98 [==============================] - 3s 29ms/step - loss: 0.4763 - accuracy: 0.7712 - val_loss: 0.4969 - val_accuracy: 0.7577\n",
            "Epoch 120/150\n",
            "98/98 [==============================] - 3s 29ms/step - loss: 0.4773 - accuracy: 0.7686 - val_loss: 0.4878 - val_accuracy: 0.7629\n",
            "Epoch 121/150\n",
            "98/98 [==============================] - 3s 29ms/step - loss: 0.4781 - accuracy: 0.7692 - val_loss: 0.4880 - val_accuracy: 0.7632\n",
            "Epoch 122/150\n",
            "98/98 [==============================] - 3s 29ms/step - loss: 0.4770 - accuracy: 0.7680 - val_loss: 0.4893 - val_accuracy: 0.7638\n",
            "Epoch 123/150\n",
            "98/98 [==============================] - 3s 29ms/step - loss: 0.4772 - accuracy: 0.7682 - val_loss: 0.4863 - val_accuracy: 0.7660\n",
            "Epoch 124/150\n",
            "98/98 [==============================] - 3s 29ms/step - loss: 0.4749 - accuracy: 0.7694 - val_loss: 0.4858 - val_accuracy: 0.7642\n",
            "Epoch 125/150\n",
            "98/98 [==============================] - 3s 29ms/step - loss: 0.4741 - accuracy: 0.7720 - val_loss: 0.4897 - val_accuracy: 0.7628\n",
            "Epoch 126/150\n",
            "98/98 [==============================] - 3s 29ms/step - loss: 0.4741 - accuracy: 0.7705 - val_loss: 0.4879 - val_accuracy: 0.7652\n",
            "Epoch 127/150\n",
            "98/98 [==============================] - 3s 29ms/step - loss: 0.4735 - accuracy: 0.7712 - val_loss: 0.4852 - val_accuracy: 0.7650\n",
            "Epoch 128/150\n",
            "98/98 [==============================] - 3s 29ms/step - loss: 0.4751 - accuracy: 0.7708 - val_loss: 0.4891 - val_accuracy: 0.7632\n",
            "Epoch 129/150\n",
            "98/98 [==============================] - 3s 29ms/step - loss: 0.4753 - accuracy: 0.7707 - val_loss: 0.4841 - val_accuracy: 0.7671\n",
            "Epoch 130/150\n",
            "98/98 [==============================] - 3s 29ms/step - loss: 0.4770 - accuracy: 0.7701 - val_loss: 0.4834 - val_accuracy: 0.7665\n",
            "Epoch 131/150\n",
            "98/98 [==============================] - 3s 29ms/step - loss: 0.4758 - accuracy: 0.7706 - val_loss: 0.4854 - val_accuracy: 0.7656\n",
            "Epoch 132/150\n",
            "98/98 [==============================] - 3s 29ms/step - loss: 0.4753 - accuracy: 0.7708 - val_loss: 0.4877 - val_accuracy: 0.7652\n",
            "Epoch 133/150\n",
            "98/98 [==============================] - 3s 30ms/step - loss: 0.4735 - accuracy: 0.7705 - val_loss: 0.4831 - val_accuracy: 0.7668\n",
            "Epoch 134/150\n",
            "98/98 [==============================] - 3s 29ms/step - loss: 0.4724 - accuracy: 0.7702 - val_loss: 0.4841 - val_accuracy: 0.7664\n",
            "Epoch 135/150\n",
            "98/98 [==============================] - 3s 29ms/step - loss: 0.4745 - accuracy: 0.7728 - val_loss: 0.4865 - val_accuracy: 0.7628\n",
            "Epoch 136/150\n",
            "98/98 [==============================] - 3s 29ms/step - loss: 0.4743 - accuracy: 0.7687 - val_loss: 0.4865 - val_accuracy: 0.7636\n",
            "Epoch 137/150\n",
            "98/98 [==============================] - 3s 29ms/step - loss: 0.4714 - accuracy: 0.7708 - val_loss: 0.4826 - val_accuracy: 0.7671\n",
            "Epoch 138/150\n",
            "98/98 [==============================] - 3s 29ms/step - loss: 0.4717 - accuracy: 0.7710 - val_loss: 0.4845 - val_accuracy: 0.7658\n",
            "Epoch 139/150\n",
            "98/98 [==============================] - 3s 29ms/step - loss: 0.4732 - accuracy: 0.7716 - val_loss: 0.4825 - val_accuracy: 0.7683\n",
            "Epoch 140/150\n",
            "98/98 [==============================] - 3s 29ms/step - loss: 0.4745 - accuracy: 0.7736 - val_loss: 0.4956 - val_accuracy: 0.7572\n",
            "Epoch 141/150\n",
            "98/98 [==============================] - 3s 29ms/step - loss: 0.4733 - accuracy: 0.7693 - val_loss: 0.4853 - val_accuracy: 0.7653\n",
            "Epoch 142/150\n",
            "98/98 [==============================] - 3s 29ms/step - loss: 0.4716 - accuracy: 0.7725 - val_loss: 0.4844 - val_accuracy: 0.7665\n",
            "Epoch 143/150\n",
            "98/98 [==============================] - 3s 29ms/step - loss: 0.4707 - accuracy: 0.7718 - val_loss: 0.4913 - val_accuracy: 0.7598\n",
            "Epoch 144/150\n",
            "98/98 [==============================] - 3s 29ms/step - loss: 0.4737 - accuracy: 0.7718 - val_loss: 0.4869 - val_accuracy: 0.7643\n",
            "Epoch 145/150\n",
            "98/98 [==============================] - 3s 29ms/step - loss: 0.4706 - accuracy: 0.7756 - val_loss: 0.4827 - val_accuracy: 0.7673\n",
            "Epoch 146/150\n",
            "98/98 [==============================] - 3s 29ms/step - loss: 0.4717 - accuracy: 0.7724 - val_loss: 0.4854 - val_accuracy: 0.7658\n",
            "Epoch 147/150\n",
            "98/98 [==============================] - 3s 29ms/step - loss: 0.4690 - accuracy: 0.7754 - val_loss: 0.4834 - val_accuracy: 0.7672\n",
            "Epoch 148/150\n",
            "98/98 [==============================] - 3s 29ms/step - loss: 0.4715 - accuracy: 0.7730 - val_loss: 0.4825 - val_accuracy: 0.7681\n",
            "Epoch 149/150\n",
            "98/98 [==============================] - 3s 29ms/step - loss: 0.4695 - accuracy: 0.7754 - val_loss: 0.4837 - val_accuracy: 0.7678\n",
            "Epoch 150/150\n",
            "98/98 [==============================] - 3s 29ms/step - loss: 0.4728 - accuracy: 0.7714 - val_loss: 0.4808 - val_accuracy: 0.7700\n"
          ]
        }
      ],
      "source": [
        "nepoch = 150\n",
        "IMDB_history = model.fit(X_train,Sc_train,validation_data=(X_test,Sc_test),epochs=nepoch,batch_size=256,callbacks=[EarlyStopping(monitor='val_loss', patience=20, restore_best_weights=True)])\n",
        "# IMDB_history=np.load('IMDBTrainhist.npy',allow_pickle='TRUE').item()\n"
      ]
    },
    {
      "cell_type": "code",
      "execution_count": null,
      "metadata": {
        "colab": {
          "base_uri": "https://localhost:8080/",
          "height": 285
        },
        "id": "7FfKtvyVEYv1",
        "outputId": "733b98cc-ce22-48ff-ffc9-23ffbef4afb6"
      },
      "outputs": [
        {
          "output_type": "execute_result",
          "data": {
            "text/plain": [
              "[]"
            ]
          },
          "metadata": {},
          "execution_count": 36
        },
        {
          "output_type": "display_data",
          "data": {
            "text/plain": [
              "<Figure size 432x288 with 1 Axes>"
            ],
            "image/png": "[encoded data removed]"
          },
          "metadata": {
            "needs_background": "light"
          }
        }
      ],
      "source": [
        "plt.plot(range(nepoch),IMDB_history.history['loss'],c='r')\n",
        "plt.plot(range(nepoch),IMDB_history.history['val_loss'],c='b')\n",
        "plt.plot()"
      ]
    },
    {
      "cell_type": "code",
      "execution_count": null,
      "metadata": {
        "colab": {
          "base_uri": "https://localhost:8080/",
          "height": 282
        },
        "id": "fK71nXD0hfuK",
        "outputId": "55d288c3-ab91-4bc7-a15a-fe35a20740f4"
      },
      "outputs": [
        {
          "output_type": "execute_result",
          "data": {
            "text/plain": [
              "[]"
            ]
          },
          "metadata": {},
          "execution_count": 37
        },
        {
          "output_type": "display_data",
          "data": {
            "text/plain": [
              "<Figure size 432x288 with 1 Axes>"
            ],
            "image/png": "[encoded data removed]"
          },
          "metadata": {
            "needs_background": "light"
          }
        }
      ],
      "source": [
        "plt.plot(range(nepoch),IMDB_history.history['accuracy'],c='r')\n",
        "plt.plot(range(nepoch),IMDB_history.history['val_accuracy'],c='b')\n",
        "plt.plot()"
      ]
    },
    {
      "cell_type": "markdown",
      "metadata": {
        "id": "axLuEJSQhfuK"
      },
      "source": [
        "### Final Submission (complete by Sunday 19/02/23)\n",
        "\n",
        "Submit Tasks 1-5 in a single notebook this before the deadline on Sunday.\n"
      ]
    },
    {
      "cell_type": "code",
      "execution_count": null,
      "metadata": {
        "id": "dZLzcq1OhfuK"
      },
      "outputs": [],
      "source": [
        "## Add additional code cells to implememt the tasks stated above"
      ]
    },
    {
      "cell_type": "code",
      "execution_count": null,
      "metadata": {
        "colab": {
          "base_uri": "https://localhost:8080/"
        },
        "id": "f9X6zuftGVnv",
        "outputId": "f455b1c8-3d12-4bbc-b0bc-46ccce131618"
      },
      "outputs": [
        {
          "output_type": "stream",
          "name": "stdout",
          "text": [
            "782/782 [==============================] - 7s 9ms/step - loss: 0.4808 - accuracy: 0.7700\n",
            "Accuracy:  0.7699599862098694\n"
          ]
        }
      ],
      "source": [
        "test_loss, test_accuracy = model.evaluate(X_test, Sc_test)\n",
        "print(\"Accuracy: \", test_accuracy)"
      ]
    },
    {
      "cell_type": "markdown",
      "metadata": {
        "id": "xkmROd0PhfuK"
      },
      "source": [
        "## Reflection\n",
        "\n",
        "There are no specific marks allocated for a reflection. However due consideration will be given if pertinent comments or valuable insights are made."
      ]
    },
    {
      "cell_type": "code",
      "execution_count": null,
      "metadata": {
        "id": "z0EM2aJIhfuK"
      },
      "outputs": [],
      "source": []
    },
    {
      "cell_type": "markdown",
      "metadata": {
        "id": "jVE4_fw-baXr"
      },
      "source": [
        "## Part1 <br>\n",
        "**Data processing** <br>\n",
        "Changed the dates to an int64.<br>\n",
        "There was a negative correlation between Stock and EuroToDollar.\n",
        "<br>Deleted this. Overall improvement was found. r2 score improved from .<br>70-.90 range depending on run to > .9\n",
        "<br>\n",
        "Missing values filled in using linear interplote this averages the value\n",
        "<br> before and after the target. This helps retain the time sequence of <br>the data rather than deleting them, even though they is very little.\n",
        "<br>\n",
        "<br>\n",
        "<br>When using more layers other than the single hidden layer for the RNN <br>the model worsened massively. Another simpleRNN layer was tried, a <br>mixture of Dense layers and dropouts, but 1 single layer worked best.\n",
        "\n",
        "<br> A additive attention mechanism was used for the imdb model.\n",
        "<br> Attention weights calculated using the TimeDistributed layer.\n",
        "<br> this is passed through a softmax to get the probability distribution.\n",
        "<br> These are then used as the representation of the input sequence.\n",
        "<br> No signficant improvement on the model performance.\n",
        "\n"
      ]
    }
  ],
  "metadata": {
    "accelerator": "GPU",
    "colab": {
      "provenance": []
    },
    "gpuClass": "premium",
    "kernelspec": {
      "display_name": "Python 3 (ipykernel)",
      "language": "python",
      "name": "python3"
    },
    "language_info": {
      "codemirror_mode": {
        "name": "ipython",
        "version": 3
      },
      "file_extension": ".py",
      "mimetype": "text/x-python",
      "name": "python",
      "nbconvert_exporter": "python",
      "pygments_lexer": "ipython3",
      "version": "3.9.13"
    },
    "latex_envs": {
      "LaTeX_envs_menu_present": true,
      "autoclose": false,
      "autocomplete": true,
      "bibliofile": "biblio.bib",
      "cite_by": "apalike",
      "current_citInitial": 1,
      "eqLabelWithNumbers": true,
      "eqNumInitial": 1,
      "hotkeys": {
        "equation": "Ctrl-E",
        "itemize": "Ctrl-I"
      },
      "labels_anchors": false,
      "latex_user_defs": false,
      "report_style_numbering": false,
      "user_envs_cfg": false
    }
  },
  "nbformat": 4,
  "nbformat_minor": 0
}